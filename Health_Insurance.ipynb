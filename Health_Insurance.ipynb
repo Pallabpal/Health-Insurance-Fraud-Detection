{
  "nbformat": 4,
  "nbformat_minor": 0,
  "metadata": {
    "colab": {
      "provenance": [],
      "authorship_tag": "ABX9TyMKKiAW7HNwotsgpqfvbQUX",
      "include_colab_link": true
    },
    "kernelspec": {
      "name": "python3",
      "display_name": "Python 3"
    },
    "language_info": {
      "name": "python"
    }
  },
  "cells": [
    {
      "cell_type": "markdown",
      "metadata": {
        "id": "view-in-github",
        "colab_type": "text"
      },
      "source": [
        "<a href=\"https://colab.research.google.com/github/Pallabpal/Health-Insurance-Fraud-Detection/blob/main/Health_Insurance.ipynb\" target=\"_parent\"><img src=\"https://colab.research.google.com/assets/colab-badge.svg\" alt=\"Open In Colab\"/></a>"
      ]
    },
    {
      "cell_type": "markdown",
      "source": [
        "**Import Libraries**"
      ],
      "metadata": {
        "id": "MRsaAAdPTAoQ"
      }
    },
    {
      "cell_type": "code",
      "execution_count": 4,
      "metadata": {
        "id": "d1o3r8DeSada"
      },
      "outputs": [],
      "source": [
        "import numpy as np \n",
        "import pandas as pd\n",
        "\n",
        "import seaborn as sns\n",
        "import matplotlib.pyplot as plt\n",
        "\n",
        "from sklearn.utils import resample\n",
        "from sklearn.preprocessing import LabelBinarizer, LabelEncoder\n",
        "from sklearn.model_selection import train_test_split, cross_val_score\n",
        "\n",
        "from sklearn.ensemble import RandomForestClassifier\n",
        "from sklearn.metrics import classification_report, confusion_matrix\n",
        "\n",
        "from sklearn.model_selection import StratifiedKFold \n",
        "from collections import Counter\n",
        "\n",
        "from joblib import dump, load\n",
        "\n",
        "import warnings\n",
        "warnings.filterwarnings('ignore')"
      ]
    },
    {
      "cell_type": "markdown",
      "source": [
        "**Dataset loading**"
      ],
      "metadata": {
        "id": "fyIAs6aSTS9p"
      }
    },
    {
      "cell_type": "code",
      "source": [
        "dataset = pd.read_csv('Dataa.csv')"
      ],
      "metadata": {
        "id": "ugdQRtgJS0P8"
      },
      "execution_count": 5,
      "outputs": []
    },
    {
      "cell_type": "code",
      "source": [
        "dataset.head(3)"
      ],
      "metadata": {
        "colab": {
          "base_uri": "https://localhost:8080/",
          "height": 393
        },
        "id": "8T4vwhAaTg4m",
        "outputId": "75aa2541-ef68-40a4-bffe-feb2b6d7470e"
      },
      "execution_count": 6,
      "outputs": [
        {
          "output_type": "execute_result",
          "data": {
            "text/plain": [
              "  Area_Service Hospital County  Hospital Id          Age Gender  \\\n",
              "0   Western NY        Allegany         37.0     30 to 49      F   \n",
              "1   Western NY        Allegany         37.0  70 or Older      F   \n",
              "2   Western NY        Allegany         37.0     30 to 49      F   \n",
              "\n",
              "  Cultural_group          ethnicity  Days_spend_hsptl Admission_type  \\\n",
              "0          White  Not Span/Hispanic                 4       Elective   \n",
              "1          White  Not Span/Hispanic                 4         Urgent   \n",
              "2          White  Not Span/Hispanic                 3         Urgent   \n",
              "\n",
              "    Home or self care,  ...  Mortality risk  Surg_Description Weight_baby  \\\n",
              "0    Home or Self Care  ...               1           Medical           0   \n",
              "1  Short-term Hospital  ...               2           Medical           0   \n",
              "2    Home or Self Care  ...               1           Medical           0   \n",
              "\n",
              "   Abortion  Emergency dept_yes/No Tot_charg  Tot_cost  \\\n",
              "0         N                      Y   5511.95   5582.49   \n",
              "1         N                      Y   4783.20   5162.82   \n",
              "2         N                      Y   3829.15   4056.52   \n",
              "\n",
              "  ratio_of_total_costs_to_total_charges Result  Payment_Typology  \n",
              "0                              1.012798      1                 1  \n",
              "1                              1.079365      1                 1  \n",
              "2                              1.059379      1                 1  \n",
              "\n",
              "[3 rows x 24 columns]"
            ],
            "text/html": [
              "\n",
              "  <div id=\"df-aee16010-693e-45fc-bc8f-2308c8a1a249\">\n",
              "    <div class=\"colab-df-container\">\n",
              "      <div>\n",
              "<style scoped>\n",
              "    .dataframe tbody tr th:only-of-type {\n",
              "        vertical-align: middle;\n",
              "    }\n",
              "\n",
              "    .dataframe tbody tr th {\n",
              "        vertical-align: top;\n",
              "    }\n",
              "\n",
              "    .dataframe thead th {\n",
              "        text-align: right;\n",
              "    }\n",
              "</style>\n",
              "<table border=\"1\" class=\"dataframe\">\n",
              "  <thead>\n",
              "    <tr style=\"text-align: right;\">\n",
              "      <th></th>\n",
              "      <th>Area_Service</th>\n",
              "      <th>Hospital County</th>\n",
              "      <th>Hospital Id</th>\n",
              "      <th>Age</th>\n",
              "      <th>Gender</th>\n",
              "      <th>Cultural_group</th>\n",
              "      <th>ethnicity</th>\n",
              "      <th>Days_spend_hsptl</th>\n",
              "      <th>Admission_type</th>\n",
              "      <th>Home or self care,</th>\n",
              "      <th>...</th>\n",
              "      <th>Mortality risk</th>\n",
              "      <th>Surg_Description</th>\n",
              "      <th>Weight_baby</th>\n",
              "      <th>Abortion</th>\n",
              "      <th>Emergency dept_yes/No</th>\n",
              "      <th>Tot_charg</th>\n",
              "      <th>Tot_cost</th>\n",
              "      <th>ratio_of_total_costs_to_total_charges</th>\n",
              "      <th>Result</th>\n",
              "      <th>Payment_Typology</th>\n",
              "    </tr>\n",
              "  </thead>\n",
              "  <tbody>\n",
              "    <tr>\n",
              "      <th>0</th>\n",
              "      <td>Western NY</td>\n",
              "      <td>Allegany</td>\n",
              "      <td>37.0</td>\n",
              "      <td>30 to 49</td>\n",
              "      <td>F</td>\n",
              "      <td>White</td>\n",
              "      <td>Not Span/Hispanic</td>\n",
              "      <td>4</td>\n",
              "      <td>Elective</td>\n",
              "      <td>Home or Self Care</td>\n",
              "      <td>...</td>\n",
              "      <td>1</td>\n",
              "      <td>Medical</td>\n",
              "      <td>0</td>\n",
              "      <td>N</td>\n",
              "      <td>Y</td>\n",
              "      <td>5511.95</td>\n",
              "      <td>5582.49</td>\n",
              "      <td>1.012798</td>\n",
              "      <td>1</td>\n",
              "      <td>1</td>\n",
              "    </tr>\n",
              "    <tr>\n",
              "      <th>1</th>\n",
              "      <td>Western NY</td>\n",
              "      <td>Allegany</td>\n",
              "      <td>37.0</td>\n",
              "      <td>70 or Older</td>\n",
              "      <td>F</td>\n",
              "      <td>White</td>\n",
              "      <td>Not Span/Hispanic</td>\n",
              "      <td>4</td>\n",
              "      <td>Urgent</td>\n",
              "      <td>Short-term Hospital</td>\n",
              "      <td>...</td>\n",
              "      <td>2</td>\n",
              "      <td>Medical</td>\n",
              "      <td>0</td>\n",
              "      <td>N</td>\n",
              "      <td>Y</td>\n",
              "      <td>4783.20</td>\n",
              "      <td>5162.82</td>\n",
              "      <td>1.079365</td>\n",
              "      <td>1</td>\n",
              "      <td>1</td>\n",
              "    </tr>\n",
              "    <tr>\n",
              "      <th>2</th>\n",
              "      <td>Western NY</td>\n",
              "      <td>Allegany</td>\n",
              "      <td>37.0</td>\n",
              "      <td>30 to 49</td>\n",
              "      <td>F</td>\n",
              "      <td>White</td>\n",
              "      <td>Not Span/Hispanic</td>\n",
              "      <td>3</td>\n",
              "      <td>Urgent</td>\n",
              "      <td>Home or Self Care</td>\n",
              "      <td>...</td>\n",
              "      <td>1</td>\n",
              "      <td>Medical</td>\n",
              "      <td>0</td>\n",
              "      <td>N</td>\n",
              "      <td>Y</td>\n",
              "      <td>3829.15</td>\n",
              "      <td>4056.52</td>\n",
              "      <td>1.059379</td>\n",
              "      <td>1</td>\n",
              "      <td>1</td>\n",
              "    </tr>\n",
              "  </tbody>\n",
              "</table>\n",
              "<p>3 rows × 24 columns</p>\n",
              "</div>\n",
              "      <button class=\"colab-df-convert\" onclick=\"convertToInteractive('df-aee16010-693e-45fc-bc8f-2308c8a1a249')\"\n",
              "              title=\"Convert this dataframe to an interactive table.\"\n",
              "              style=\"display:none;\">\n",
              "        \n",
              "  <svg xmlns=\"http://www.w3.org/2000/svg\" height=\"24px\"viewBox=\"0 0 24 24\"\n",
              "       width=\"24px\">\n",
              "    <path d=\"M0 0h24v24H0V0z\" fill=\"none\"/>\n",
              "    <path d=\"M18.56 5.44l.94 2.06.94-2.06 2.06-.94-2.06-.94-.94-2.06-.94 2.06-2.06.94zm-11 1L8.5 8.5l.94-2.06 2.06-.94-2.06-.94L8.5 2.5l-.94 2.06-2.06.94zm10 10l.94 2.06.94-2.06 2.06-.94-2.06-.94-.94-2.06-.94 2.06-2.06.94z\"/><path d=\"M17.41 7.96l-1.37-1.37c-.4-.4-.92-.59-1.43-.59-.52 0-1.04.2-1.43.59L10.3 9.45l-7.72 7.72c-.78.78-.78 2.05 0 2.83L4 21.41c.39.39.9.59 1.41.59.51 0 1.02-.2 1.41-.59l7.78-7.78 2.81-2.81c.8-.78.8-2.07 0-2.86zM5.41 20L4 18.59l7.72-7.72 1.47 1.35L5.41 20z\"/>\n",
              "  </svg>\n",
              "      </button>\n",
              "      \n",
              "  <style>\n",
              "    .colab-df-container {\n",
              "      display:flex;\n",
              "      flex-wrap:wrap;\n",
              "      gap: 12px;\n",
              "    }\n",
              "\n",
              "    .colab-df-convert {\n",
              "      background-color: #E8F0FE;\n",
              "      border: none;\n",
              "      border-radius: 50%;\n",
              "      cursor: pointer;\n",
              "      display: none;\n",
              "      fill: #1967D2;\n",
              "      height: 32px;\n",
              "      padding: 0 0 0 0;\n",
              "      width: 32px;\n",
              "    }\n",
              "\n",
              "    .colab-df-convert:hover {\n",
              "      background-color: #E2EBFA;\n",
              "      box-shadow: 0px 1px 2px rgba(60, 64, 67, 0.3), 0px 1px 3px 1px rgba(60, 64, 67, 0.15);\n",
              "      fill: #174EA6;\n",
              "    }\n",
              "\n",
              "    [theme=dark] .colab-df-convert {\n",
              "      background-color: #3B4455;\n",
              "      fill: #D2E3FC;\n",
              "    }\n",
              "\n",
              "    [theme=dark] .colab-df-convert:hover {\n",
              "      background-color: #434B5C;\n",
              "      box-shadow: 0px 1px 3px 1px rgba(0, 0, 0, 0.15);\n",
              "      filter: drop-shadow(0px 1px 2px rgba(0, 0, 0, 0.3));\n",
              "      fill: #FFFFFF;\n",
              "    }\n",
              "  </style>\n",
              "\n",
              "      <script>\n",
              "        const buttonEl =\n",
              "          document.querySelector('#df-aee16010-693e-45fc-bc8f-2308c8a1a249 button.colab-df-convert');\n",
              "        buttonEl.style.display =\n",
              "          google.colab.kernel.accessAllowed ? 'block' : 'none';\n",
              "\n",
              "        async function convertToInteractive(key) {\n",
              "          const element = document.querySelector('#df-aee16010-693e-45fc-bc8f-2308c8a1a249');\n",
              "          const dataTable =\n",
              "            await google.colab.kernel.invokeFunction('convertToInteractive',\n",
              "                                                     [key], {});\n",
              "          if (!dataTable) return;\n",
              "\n",
              "          const docLinkHtml = 'Like what you see? Visit the ' +\n",
              "            '<a target=\"_blank\" href=https://colab.research.google.com/notebooks/data_table.ipynb>data table notebook</a>'\n",
              "            + ' to learn more about interactive tables.';\n",
              "          element.innerHTML = '';\n",
              "          dataTable['output_type'] = 'display_data';\n",
              "          await google.colab.output.renderOutput(dataTable, element);\n",
              "          const docLink = document.createElement('div');\n",
              "          docLink.innerHTML = docLinkHtml;\n",
              "          element.appendChild(docLink);\n",
              "        }\n",
              "      </script>\n",
              "    </div>\n",
              "  </div>\n",
              "  "
            ]
          },
          "metadata": {},
          "execution_count": 6
        }
      ]
    },
    {
      "cell_type": "code",
      "source": [
        "dataset.columns"
      ],
      "metadata": {
        "colab": {
          "base_uri": "https://localhost:8080/"
        },
        "id": "6vhr3E6VTiKx",
        "outputId": "35a006d8-2421-42a1-ccd8-8d6da3ce4bd8"
      },
      "execution_count": 7,
      "outputs": [
        {
          "output_type": "execute_result",
          "data": {
            "text/plain": [
              "Index(['Area_Service', 'Hospital County', 'Hospital Id', 'Age', 'Gender',\n",
              "       'Cultural_group', 'ethnicity', 'Days_spend_hsptl', 'Admission_type',\n",
              "       'Home or self care,', 'ccs_diagnosis_code', 'ccs_procedure_code',\n",
              "       'apr_drg_description', 'Code_illness', 'Mortality risk',\n",
              "       'Surg_Description', 'Weight_baby', 'Abortion', 'Emergency dept_yes/No',\n",
              "       'Tot_charg', 'Tot_cost', 'ratio_of_total_costs_to_total_charges',\n",
              "       'Result', 'Payment_Typology'],\n",
              "      dtype='object')"
            ]
          },
          "metadata": {},
          "execution_count": 7
        }
      ]
    },
    {
      "cell_type": "markdown",
      "source": [
        "**removing spaces in dataset column names**"
      ],
      "metadata": {
        "id": "Ca_I7wnKVsXg"
      }
    },
    {
      "cell_type": "code",
      "source": [
        "dataset.columns = dataset.columns.to_series().apply(lambda x: x.replace(' ', '_')).to_list()\n",
        "dataset.columns = dataset.columns.to_series().apply(lambda x: x.replace('/', '_')).to_list()\n",
        "dataset.columns.values"
      ],
      "metadata": {
        "colab": {
          "base_uri": "https://localhost:8080/"
        },
        "id": "9BGFSPqIVDt-",
        "outputId": "357db28a-daa3-4a9d-c7d9-86da645e0b48"
      },
      "execution_count": 8,
      "outputs": [
        {
          "output_type": "execute_result",
          "data": {
            "text/plain": [
              "array(['Area_Service', 'Hospital_County', 'Hospital_Id', 'Age', 'Gender',\n",
              "       'Cultural_group', 'ethnicity', 'Days_spend_hsptl',\n",
              "       'Admission_type', 'Home_or_self_care,', 'ccs_diagnosis_code',\n",
              "       'ccs_procedure_code', 'apr_drg_description', 'Code_illness',\n",
              "       'Mortality_risk', 'Surg_Description', 'Weight_baby', 'Abortion',\n",
              "       'Emergency_dept_yes_No', 'Tot_charg', 'Tot_cost',\n",
              "       'ratio_of_total_costs_to_total_charges', 'Result',\n",
              "       'Payment_Typology'], dtype=object)"
            ]
          },
          "metadata": {},
          "execution_count": 8
        }
      ]
    },
    {
      "cell_type": "code",
      "source": [
        "dataset.rename(columns={'Home_or_self_care,': 'Home_or_self_care'}, inplace=True)"
      ],
      "metadata": {
        "id": "JroSALXwVyaq"
      },
      "execution_count": 9,
      "outputs": []
    },
    {
      "cell_type": "code",
      "source": [
        "data= pd.read_csv('Dataa.csv')\n",
        "data_sample_view = data.head(2)"
      ],
      "metadata": {
        "id": "Nep_QAraV5sU"
      },
      "execution_count": 10,
      "outputs": []
    },
    {
      "cell_type": "markdown",
      "source": [
        "**For deployment part, sample dataframe view**"
      ],
      "metadata": {
        "id": "R2Vp0s7iWMKX"
      }
    },
    {
      "cell_type": "code",
      "source": [
        "dump(data_sample_view, 'data_sample_view.joblib')"
      ],
      "metadata": {
        "colab": {
          "base_uri": "https://localhost:8080/"
        },
        "id": "FKadoNP0WALr",
        "outputId": "c08e2db8-678e-4415-ed90-aea6b2351fae"
      },
      "execution_count": 11,
      "outputs": [
        {
          "output_type": "execute_result",
          "data": {
            "text/plain": [
              "['data_sample_view.joblib']"
            ]
          },
          "metadata": {},
          "execution_count": 11
        }
      ]
    },
    {
      "cell_type": "code",
      "source": [
        "dataset.shape"
      ],
      "metadata": {
        "colab": {
          "base_uri": "https://localhost:8080/"
        },
        "id": "dBjVpjoiWGUZ",
        "outputId": "c176f66b-9420-4bd9-9044-76ca5d2ee033"
      },
      "execution_count": 12,
      "outputs": [
        {
          "output_type": "execute_result",
          "data": {
            "text/plain": [
              "(3237, 24)"
            ]
          },
          "metadata": {},
          "execution_count": 12
        }
      ]
    },
    {
      "cell_type": "code",
      "source": [
        "dataset.drop_duplicates(inplace=True)\n",
        "dataset.dropna(inplace=True)\n",
        "dataset.shape"
      ],
      "metadata": {
        "colab": {
          "base_uri": "https://localhost:8080/"
        },
        "id": "qX1b9J5iWVPx",
        "outputId": "d3f04576-febc-400b-a0be-69ae90151422"
      },
      "execution_count": 13,
      "outputs": [
        {
          "output_type": "execute_result",
          "data": {
            "text/plain": [
              "(3212, 24)"
            ]
          },
          "metadata": {},
          "execution_count": 13
        }
      ]
    },
    {
      "cell_type": "code",
      "source": [
        "dataset.select_dtypes(include=['object']).head(2)"
      ],
      "metadata": {
        "colab": {
          "base_uri": "https://localhost:8080/",
          "height": 210
        },
        "id": "Z0IcVX7bWhax",
        "outputId": "7b222381-b00f-46f1-837d-1d0b0ebaf1d2"
      },
      "execution_count": 14,
      "outputs": [
        {
          "output_type": "execute_result",
          "data": {
            "text/plain": [
              "  Area_Service Hospital_County          Age Gender Cultural_group  \\\n",
              "0   Western NY        Allegany     30 to 49      F          White   \n",
              "1   Western NY        Allegany  70 or Older      F          White   \n",
              "\n",
              "           ethnicity Admission_type    Home_or_self_care  \\\n",
              "0  Not Span/Hispanic       Elective    Home or Self Care   \n",
              "1  Not Span/Hispanic         Urgent  Short-term Hospital   \n",
              "\n",
              "                  apr_drg_description Surg_Description Abortion  \\\n",
              "0                     Other pneumonia          Medical        N   \n",
              "1  Cellulitis & other skin infections          Medical        N   \n",
              "\n",
              "  Emergency_dept_yes_No  \n",
              "0                     Y  \n",
              "1                     Y  "
            ],
            "text/html": [
              "\n",
              "  <div id=\"df-f70060d6-f934-458b-868b-e91255236419\">\n",
              "    <div class=\"colab-df-container\">\n",
              "      <div>\n",
              "<style scoped>\n",
              "    .dataframe tbody tr th:only-of-type {\n",
              "        vertical-align: middle;\n",
              "    }\n",
              "\n",
              "    .dataframe tbody tr th {\n",
              "        vertical-align: top;\n",
              "    }\n",
              "\n",
              "    .dataframe thead th {\n",
              "        text-align: right;\n",
              "    }\n",
              "</style>\n",
              "<table border=\"1\" class=\"dataframe\">\n",
              "  <thead>\n",
              "    <tr style=\"text-align: right;\">\n",
              "      <th></th>\n",
              "      <th>Area_Service</th>\n",
              "      <th>Hospital_County</th>\n",
              "      <th>Age</th>\n",
              "      <th>Gender</th>\n",
              "      <th>Cultural_group</th>\n",
              "      <th>ethnicity</th>\n",
              "      <th>Admission_type</th>\n",
              "      <th>Home_or_self_care</th>\n",
              "      <th>apr_drg_description</th>\n",
              "      <th>Surg_Description</th>\n",
              "      <th>Abortion</th>\n",
              "      <th>Emergency_dept_yes_No</th>\n",
              "    </tr>\n",
              "  </thead>\n",
              "  <tbody>\n",
              "    <tr>\n",
              "      <th>0</th>\n",
              "      <td>Western NY</td>\n",
              "      <td>Allegany</td>\n",
              "      <td>30 to 49</td>\n",
              "      <td>F</td>\n",
              "      <td>White</td>\n",
              "      <td>Not Span/Hispanic</td>\n",
              "      <td>Elective</td>\n",
              "      <td>Home or Self Care</td>\n",
              "      <td>Other pneumonia</td>\n",
              "      <td>Medical</td>\n",
              "      <td>N</td>\n",
              "      <td>Y</td>\n",
              "    </tr>\n",
              "    <tr>\n",
              "      <th>1</th>\n",
              "      <td>Western NY</td>\n",
              "      <td>Allegany</td>\n",
              "      <td>70 or Older</td>\n",
              "      <td>F</td>\n",
              "      <td>White</td>\n",
              "      <td>Not Span/Hispanic</td>\n",
              "      <td>Urgent</td>\n",
              "      <td>Short-term Hospital</td>\n",
              "      <td>Cellulitis &amp; other skin infections</td>\n",
              "      <td>Medical</td>\n",
              "      <td>N</td>\n",
              "      <td>Y</td>\n",
              "    </tr>\n",
              "  </tbody>\n",
              "</table>\n",
              "</div>\n",
              "      <button class=\"colab-df-convert\" onclick=\"convertToInteractive('df-f70060d6-f934-458b-868b-e91255236419')\"\n",
              "              title=\"Convert this dataframe to an interactive table.\"\n",
              "              style=\"display:none;\">\n",
              "        \n",
              "  <svg xmlns=\"http://www.w3.org/2000/svg\" height=\"24px\"viewBox=\"0 0 24 24\"\n",
              "       width=\"24px\">\n",
              "    <path d=\"M0 0h24v24H0V0z\" fill=\"none\"/>\n",
              "    <path d=\"M18.56 5.44l.94 2.06.94-2.06 2.06-.94-2.06-.94-.94-2.06-.94 2.06-2.06.94zm-11 1L8.5 8.5l.94-2.06 2.06-.94-2.06-.94L8.5 2.5l-.94 2.06-2.06.94zm10 10l.94 2.06.94-2.06 2.06-.94-2.06-.94-.94-2.06-.94 2.06-2.06.94z\"/><path d=\"M17.41 7.96l-1.37-1.37c-.4-.4-.92-.59-1.43-.59-.52 0-1.04.2-1.43.59L10.3 9.45l-7.72 7.72c-.78.78-.78 2.05 0 2.83L4 21.41c.39.39.9.59 1.41.59.51 0 1.02-.2 1.41-.59l7.78-7.78 2.81-2.81c.8-.78.8-2.07 0-2.86zM5.41 20L4 18.59l7.72-7.72 1.47 1.35L5.41 20z\"/>\n",
              "  </svg>\n",
              "      </button>\n",
              "      \n",
              "  <style>\n",
              "    .colab-df-container {\n",
              "      display:flex;\n",
              "      flex-wrap:wrap;\n",
              "      gap: 12px;\n",
              "    }\n",
              "\n",
              "    .colab-df-convert {\n",
              "      background-color: #E8F0FE;\n",
              "      border: none;\n",
              "      border-radius: 50%;\n",
              "      cursor: pointer;\n",
              "      display: none;\n",
              "      fill: #1967D2;\n",
              "      height: 32px;\n",
              "      padding: 0 0 0 0;\n",
              "      width: 32px;\n",
              "    }\n",
              "\n",
              "    .colab-df-convert:hover {\n",
              "      background-color: #E2EBFA;\n",
              "      box-shadow: 0px 1px 2px rgba(60, 64, 67, 0.3), 0px 1px 3px 1px rgba(60, 64, 67, 0.15);\n",
              "      fill: #174EA6;\n",
              "    }\n",
              "\n",
              "    [theme=dark] .colab-df-convert {\n",
              "      background-color: #3B4455;\n",
              "      fill: #D2E3FC;\n",
              "    }\n",
              "\n",
              "    [theme=dark] .colab-df-convert:hover {\n",
              "      background-color: #434B5C;\n",
              "      box-shadow: 0px 1px 3px 1px rgba(0, 0, 0, 0.15);\n",
              "      filter: drop-shadow(0px 1px 2px rgba(0, 0, 0, 0.3));\n",
              "      fill: #FFFFFF;\n",
              "    }\n",
              "  </style>\n",
              "\n",
              "      <script>\n",
              "        const buttonEl =\n",
              "          document.querySelector('#df-f70060d6-f934-458b-868b-e91255236419 button.colab-df-convert');\n",
              "        buttonEl.style.display =\n",
              "          google.colab.kernel.accessAllowed ? 'block' : 'none';\n",
              "\n",
              "        async function convertToInteractive(key) {\n",
              "          const element = document.querySelector('#df-f70060d6-f934-458b-868b-e91255236419');\n",
              "          const dataTable =\n",
              "            await google.colab.kernel.invokeFunction('convertToInteractive',\n",
              "                                                     [key], {});\n",
              "          if (!dataTable) return;\n",
              "\n",
              "          const docLinkHtml = 'Like what you see? Visit the ' +\n",
              "            '<a target=\"_blank\" href=https://colab.research.google.com/notebooks/data_table.ipynb>data table notebook</a>'\n",
              "            + ' to learn more about interactive tables.';\n",
              "          element.innerHTML = '';\n",
              "          dataTable['output_type'] = 'display_data';\n",
              "          await google.colab.output.renderOutput(dataTable, element);\n",
              "          const docLink = document.createElement('div');\n",
              "          docLink.innerHTML = docLinkHtml;\n",
              "          element.appendChild(docLink);\n",
              "        }\n",
              "      </script>\n",
              "    </div>\n",
              "  </div>\n",
              "  "
            ]
          },
          "metadata": {},
          "execution_count": 14
        }
      ]
    },
    {
      "cell_type": "markdown",
      "source": [
        "**Trying to convert string formatted data to integer / find out which value is not getting converted to integer datatype**"
      ],
      "metadata": {
        "id": "xHPa4dNRW8lp"
      }
    },
    {
      "cell_type": "code",
      "source": [
        "for i in dataset.Days_spend_hsptl.unique():\n",
        "    try:\n",
        "        int(i)\n",
        "    except ValueError:\n",
        "        print(i)"
      ],
      "metadata": {
        "id": "3ipdDL53Wo09"
      },
      "execution_count": 15,
      "outputs": []
    },
    {
      "cell_type": "code",
      "source": [
        "dataset.Days_spend_hsptl = dataset.Days_spend_hsptl.astype('int')\n",
        "dataset.Hospital_Id = dataset.Hospital_Id.astype('int')\n",
        "dataset.Mortality_risk = dataset.Mortality_risk.astype('int')"
      ],
      "metadata": {
        "id": "ALCgTlTSXW3A"
      },
      "execution_count": 16,
      "outputs": []
    },
    {
      "cell_type": "markdown",
      "source": [
        "**Dropping non important Columns**"
      ],
      "metadata": {
        "id": "nfPxk_IMX0QP"
      }
    },
    {
      "cell_type": "code",
      "source": [
        "dataset.drop(['Hospital_Id', 'apr_drg_description', 'Abortion', 'Weight_baby'], axis=1, inplace=True)"
      ],
      "metadata": {
        "id": "VZMaYFRNXeE6"
      },
      "execution_count": 17,
      "outputs": []
    },
    {
      "cell_type": "markdown",
      "source": [
        "**Encoding**"
      ],
      "metadata": {
        "id": "95pe2dlBYYJi"
      }
    },
    {
      "cell_type": "code",
      "source": [
        "from sklearn.preprocessing import LabelBinarizer, LabelEncoder\n",
        "label = LabelEncoder()\n",
        "label_binizer =LabelBinarizer()"
      ],
      "metadata": {
        "id": "fzDROk3sYatw"
      },
      "execution_count": 18,
      "outputs": []
    },
    {
      "cell_type": "code",
      "source": [
        "label_area = label.fit(dataset.Area_Service)\n",
        "label_Hospital_County = label.fit(dataset.Hospital_County)\n",
        "label_Age = label.fit(dataset.Age)\n",
        "label_Cultural_group = label.fit(dataset.Cultural_group)\n",
        "label_ethnicity= label.fit(dataset.ethnicity)\n",
        "label_Admission_type = label.fit(dataset.Admission_type)\n",
        "label_Home_or_self_care = label.fit(dataset.Home_or_self_care)\n",
        "one_hot_Gender = label_binizer.fit(dataset.Gender)\n",
        "one_hot_Surg_Description = label_binizer.fit(dataset.Surg_Description)\n",
        "one_hot_Emergency_dept_yes_No = label_binizer.fit(dataset.Emergency_dept_yes_No)"
      ],
      "metadata": {
        "id": "47dY3FQVYgFV"
      },
      "execution_count": 19,
      "outputs": []
    },
    {
      "cell_type": "code",
      "source": [
        "label_encoder_list = [label_area, label_Hospital_County,\n",
        "                label_Age, label_Cultural_group,\n",
        "                label_ethnicity, label_Admission_type,\n",
        "                label_Home_or_self_care]\n",
        "\n",
        "one_hot_coder_list = [one_hot_Gender, one_hot_Surg_Description, one_hot_Emergency_dept_yes_No]"
      ],
      "metadata": {
        "id": "j5WHDic_Yvxx"
      },
      "execution_count": 20,
      "outputs": []
    },
    {
      "cell_type": "markdown",
      "source": [
        "**Pickling encoding object & columns for deployment point of view**"
      ],
      "metadata": {
        "id": "Z61OghnAY8R5"
      }
    },
    {
      "cell_type": "code",
      "source": [
        "from joblib import dump, load"
      ],
      "metadata": {
        "id": "7AvKqg9CYzb9"
      },
      "execution_count": 21,
      "outputs": []
    },
    {
      "cell_type": "code",
      "source": [
        "dump(label_encoder_list, 'label_encoder_list.joblib')\n",
        "dump(one_hot_coder_list, 'one_hot_coder_list.joblib')"
      ],
      "metadata": {
        "colab": {
          "base_uri": "https://localhost:8080/"
        },
        "id": "szKONRc9ZBzP",
        "outputId": "f42d9b68-cca7-467a-aff7-20b2cf91834d"
      },
      "execution_count": 22,
      "outputs": [
        {
          "output_type": "execute_result",
          "data": {
            "text/plain": [
              "['one_hot_coder_list.joblib']"
            ]
          },
          "metadata": {},
          "execution_count": 22
        }
      ]
    },
    {
      "cell_type": "code",
      "source": [
        "label_to_column = ['Area_Service', 'Hospital_County',\n",
        "                  'Age', 'Cultural_group', 'ethnicity',\n",
        "                  'Admission_type', 'Home_or_self_care']"
      ],
      "metadata": {
        "id": "H4Qai3BkZJwE"
      },
      "execution_count": 23,
      "outputs": []
    },
    {
      "cell_type": "code",
      "source": [
        "one_hot_column = ['Gender', 'Surg_Description', 'Emergency_dept_yes_No']"
      ],
      "metadata": {
        "id": "x9A2xD2KZM0E"
      },
      "execution_count": 24,
      "outputs": []
    },
    {
      "cell_type": "code",
      "source": [
        "dump(label_to_column, 'label_to_column.joblib')"
      ],
      "metadata": {
        "colab": {
          "base_uri": "https://localhost:8080/"
        },
        "id": "AtI1FwazZPqW",
        "outputId": "9c17e00f-e50b-427a-b725-127d2d042ddc"
      },
      "execution_count": 25,
      "outputs": [
        {
          "output_type": "execute_result",
          "data": {
            "text/plain": [
              "['label_to_column.joblib']"
            ]
          },
          "metadata": {},
          "execution_count": 25
        }
      ]
    },
    {
      "cell_type": "code",
      "source": [
        "dump(one_hot_column, 'one_hot_column.joblib')"
      ],
      "metadata": {
        "colab": {
          "base_uri": "https://localhost:8080/"
        },
        "id": "zpCY5NHIZSEc",
        "outputId": "6a9d6548-1059-4657-e87d-6ee3c8faa6a1"
      },
      "execution_count": 26,
      "outputs": [
        {
          "output_type": "execute_result",
          "data": {
            "text/plain": [
              "['one_hot_column.joblib']"
            ]
          },
          "metadata": {},
          "execution_count": 26
        }
      ]
    },
    {
      "cell_type": "markdown",
      "source": [
        "**Applyibng label encoding on columns..also this below cells can be used in deployment as well**"
      ],
      "metadata": {
        "id": "UxvEe5kGO0LE"
      }
    },
    {
      "cell_type": "code",
      "source": [
        "j = 0\n",
        "for i in label_to_column:\n",
        "    dataset[i] = label_encoder_list[j].fit_transform(dataset[i])\n",
        "    j =+1"
      ],
      "metadata": {
        "id": "ELNgcILEZVCQ"
      },
      "execution_count": 27,
      "outputs": []
    },
    {
      "cell_type": "markdown",
      "source": [
        "**applyibng one hot encoding on columns..also this below cells can be used in deployment as well**"
      ],
      "metadata": {
        "id": "KisO6MoWO_SV"
      }
    },
    {
      "cell_type": "code",
      "source": [
        "k = 0\n",
        "for i in one_hot_column:\n",
        "    dataset[i] = one_hot_coder_list[k].fit_transform(dataset[i])\n",
        "    k =+1"
      ],
      "metadata": {
        "id": "GXEc5fCtO6KD"
      },
      "execution_count": 28,
      "outputs": []
    },
    {
      "cell_type": "markdown",
      "source": [
        "**Performing on sample datasets**"
      ],
      "metadata": {
        "id": "iwT1YZm7P_5h"
      }
    },
    {
      "cell_type": "code",
      "source": [
        "sample_data = dataset.sample(frac=0.1)"
      ],
      "metadata": {
        "id": "V5bhcEJ0PtWs"
      },
      "execution_count": 35,
      "outputs": []
    },
    {
      "cell_type": "code",
      "source": [
        "sample_data.Result.value_counts()"
      ],
      "metadata": {
        "colab": {
          "base_uri": "https://localhost:8080/"
        },
        "id": "qne4mH5BP_Fy",
        "outputId": "e212c8ef-6883-481a-f69e-2ee2cb91e586"
      },
      "execution_count": 36,
      "outputs": [
        {
          "output_type": "execute_result",
          "data": {
            "text/plain": [
              "1    234\n",
              "0     87\n",
              "Name: Result, dtype: int64"
            ]
          },
          "metadata": {},
          "execution_count": 36
        }
      ]
    },
    {
      "cell_type": "markdown",
      "source": [
        "**Upsampling before splitting the data into train & test**"
      ],
      "metadata": {
        "id": "_r5tXYc_QqG7"
      }
    },
    {
      "cell_type": "code",
      "source": [
        "sample_minority = sample_data.loc[sample_data['Result']==0]\n",
        "sample_majority = sample_data.loc[sample_data['Result']==1]\n"
      ],
      "metadata": {
        "id": "_XAU6y5QQJNT"
      },
      "execution_count": 39,
      "outputs": []
    },
    {
      "cell_type": "code",
      "source": [
        "from sklearn.utils import resample\n",
        "sample_data_minority_upsampled = resample(sample_minority , replace=True, n_samples=12000, random_state=42)"
      ],
      "metadata": {
        "id": "CvPv9iSTQVsq"
      },
      "execution_count": 40,
      "outputs": []
    },
    {
      "cell_type": "code",
      "source": [
        "sample_data_upsampled = pd.concat([sample_majority, sample_data_minority_upsampled ], ignore_index=True)"
      ],
      "metadata": {
        "id": "f5nrmlUcQ7ng"
      },
      "execution_count": 41,
      "outputs": []
    },
    {
      "cell_type": "code",
      "source": [
        "x = sample_data_upsampled.drop(['Result'],axis=1).values\n",
        "y = sample_data_upsampled.Result.values"
      ],
      "metadata": {
        "id": "ZRPaG4TEQ9Qu"
      },
      "execution_count": 42,
      "outputs": []
    },
    {
      "cell_type": "code",
      "source": [
        "x_train, x_test, y_train, y_test = train_test_split(x, y, test_size=0.3, stratify = y, random_state=42)"
      ],
      "metadata": {
        "id": "YZdFakbaRARm"
      },
      "execution_count": 46,
      "outputs": []
    },
    {
      "cell_type": "code",
      "source": [
        "def find_alpha(x_train, x_test, y_train, y_test):\n",
        "    \n",
        "    import matplotlib.pyplot as plt\n",
        "    from sklearn.ensemble import RandomForestClassifier\n",
        "    \n",
        "    \n",
        "    ccp_alphas = np.arange(0.000, 0.040, 0.002)\n",
        "    clfs = []\n",
        "    for ccp_alpha in ccp_alphas:\n",
        "        clf = RandomForestClassifier(n_estimators=15, random_state=42, ccp_alpha=ccp_alpha)\n",
        "        clf.fit(x_train, y_train)\n",
        "        clfs.append(clf)\n",
        "\n",
        "    train_scores = [clf.score(x_train, y_train) for clf in clfs]\n",
        "    test_scores = [clf.score(x_test, y_test) for clf in clfs]\n",
        "\n",
        "    fig, ax = plt.subplots(figsize=(15,6))\n",
        "    ax.set_xlabel(\"alpha\")\n",
        "    ax.set_ylabel(\"accuracy\")\n",
        "    ax.set_title(\"Accuracy vs alpha for training and testing sets\")\n",
        "    ax.plot(ccp_alphas, train_scores, marker='o', label=\"train\",drawstyle=\"steps-post\")\n",
        "    ax.plot(ccp_alphas, test_scores, marker='o', label=\"test\",drawstyle=\"steps-post\")\n",
        "    ax.set_xticks(np.arange(0.000,0.040, 0.002))\n",
        "    ax.set_yticks(np.arange(0.70,1.01, 0.1))\n",
        "    ax.legend()\n",
        "    plt.grid(True)\n",
        "    plt.rcParams['xtick.labelsize']=12\n",
        "    plt.rcParams['ytick.labelsize']=12\n",
        "    plt.show()"
      ],
      "metadata": {
        "id": "qS9WswSgRD3A"
      },
      "execution_count": 47,
      "outputs": []
    },
    {
      "cell_type": "code",
      "source": [
        "find_alpha(x_train, x_test, y_train, y_test)"
      ],
      "metadata": {
        "colab": {
          "base_uri": "https://localhost:8080/",
          "height": 399
        },
        "id": "T5uNS9WMRQec",
        "outputId": "f47cef4e-5f1b-415e-8949-80afed2b2e22"
      },
      "execution_count": 48,
      "outputs": [
        {
          "output_type": "display_data",
          "data": {
            "text/plain": [
              "<Figure size 1500x600 with 1 Axes>"
            ],
            "image/png": "[encoded data removed]"
          },
          "metadata": {}
        }
      ]
    },
    {
      "cell_type": "markdown",
      "source": [
        "**Building Model with n_estimators=100**"
      ],
      "metadata": {
        "id": "9LRlKL-2Rggm"
      }
    },
    {
      "cell_type": "code",
      "source": [
        "from sklearn.ensemble import RandomForestClassifier\n",
        "sample_RF_upsampled = RandomForestClassifier(n_estimators=100, random_state=42)"
      ],
      "metadata": {
        "id": "ykMHtc7qRg-B"
      },
      "execution_count": 49,
      "outputs": []
    },
    {
      "cell_type": "code",
      "source": [
        "clf_sample = sample_RF_upsampled.fit(x_train, y_train)"
      ],
      "metadata": {
        "id": "ADnrJ0CRRj9a"
      },
      "execution_count": 50,
      "outputs": []
    },
    {
      "cell_type": "code",
      "source": [
        "y_pred_train = clf_sample.predict(x_train)\n",
        "y_pred = clf_sample.predict(x_test)"
      ],
      "metadata": {
        "id": "m9T8KPZ4RlO5"
      },
      "execution_count": 52,
      "outputs": []
    },
    {
      "cell_type": "code",
      "source": [
        "print(classification_report(y_train, y_pred_train ))"
      ],
      "metadata": {
        "colab": {
          "base_uri": "https://localhost:8080/"
        },
        "id": "p3TV242iRnus",
        "outputId": "0bcff9e6-cf6f-4e80-87ba-328a61071d48"
      },
      "execution_count": 53,
      "outputs": [
        {
          "output_type": "stream",
          "name": "stdout",
          "text": [
            "              precision    recall  f1-score   support\n",
            "\n",
            "           0       1.00      1.00      1.00      8399\n",
            "           1       1.00      1.00      1.00       164\n",
            "\n",
            "    accuracy                           1.00      8563\n",
            "   macro avg       1.00      1.00      1.00      8563\n",
            "weighted avg       1.00      1.00      1.00      8563\n",
            "\n"
          ]
        }
      ]
    },
    {
      "cell_type": "code",
      "source": [
        "print(classification_report(y_test, y_pred ))"
      ],
      "metadata": {
        "colab": {
          "base_uri": "https://localhost:8080/"
        },
        "id": "H6n2QSgdRs9G",
        "outputId": "47b0ec91-46cc-4d74-aec8-ecc2367137b3"
      },
      "execution_count": 54,
      "outputs": [
        {
          "output_type": "stream",
          "name": "stdout",
          "text": [
            "              precision    recall  f1-score   support\n",
            "\n",
            "           0       0.99      1.00      1.00      3601\n",
            "           1       1.00      0.67      0.80        70\n",
            "\n",
            "    accuracy                           0.99      3671\n",
            "   macro avg       1.00      0.84      0.90      3671\n",
            "weighted avg       0.99      0.99      0.99      3671\n",
            "\n"
          ]
        }
      ]
    },
    {
      "cell_type": "markdown",
      "source": [
        "**Building Model with n_estimators=15**"
      ],
      "metadata": {
        "id": "RFc1CF9tSb68"
      }
    },
    {
      "cell_type": "code",
      "source": [
        "from sklearn.ensemble import RandomForestClassifier\n",
        "sample_RF15_upsampled = RandomForestClassifier(n_estimators=15, random_state=42)"
      ],
      "metadata": {
        "id": "vnoqMltcSO1O"
      },
      "execution_count": 58,
      "outputs": []
    },
    {
      "cell_type": "code",
      "source": [
        "cross_val_score(clf_sample, x, y)"
      ],
      "metadata": {
        "colab": {
          "base_uri": "https://localhost:8080/"
        },
        "id": "0Ay4zwjxR59B",
        "outputId": "058a714b-d8a5-4a56-d292-9e2030976dfa"
      },
      "execution_count": 55,
      "outputs": [
        {
          "output_type": "execute_result",
          "data": {
            "text/plain": [
              "array([0.99346138, 0.99346138, 0.99264405, 0.99264405, 0.99427637])"
            ]
          },
          "metadata": {},
          "execution_count": 55
        }
      ]
    },
    {
      "cell_type": "code",
      "source": [
        "clf_15_sample = sample_RF_upsampled.fit(x_train, y_train)"
      ],
      "metadata": {
        "id": "S2Uj0uFjR6pj"
      },
      "execution_count": 59,
      "outputs": []
    },
    {
      "cell_type": "code",
      "source": [
        "y_pred_train = clf_15_sample.predict(x_train)\n",
        "y_pred = clf_15_sample.predict(x_test)"
      ],
      "metadata": {
        "id": "cUWxF6xVSK-D"
      },
      "execution_count": 60,
      "outputs": []
    },
    {
      "cell_type": "code",
      "source": [
        "print(classification_report(y_train, y_pred_train ))"
      ],
      "metadata": {
        "colab": {
          "base_uri": "https://localhost:8080/"
        },
        "id": "00V0YT8cSocv",
        "outputId": "711ccb96-6b88-4ee7-a482-2e1bebad4bcd"
      },
      "execution_count": 61,
      "outputs": [
        {
          "output_type": "stream",
          "name": "stdout",
          "text": [
            "              precision    recall  f1-score   support\n",
            "\n",
            "           0       1.00      1.00      1.00      8399\n",
            "           1       1.00      1.00      1.00       164\n",
            "\n",
            "    accuracy                           1.00      8563\n",
            "   macro avg       1.00      1.00      1.00      8563\n",
            "weighted avg       1.00      1.00      1.00      8563\n",
            "\n"
          ]
        }
      ]
    },
    {
      "cell_type": "code",
      "source": [
        "print(classification_report(y_test, y_pred ))"
      ],
      "metadata": {
        "colab": {
          "base_uri": "https://localhost:8080/"
        },
        "id": "ctvLENVKSrKA",
        "outputId": "2ba3f60e-35d8-4b07-ebad-f3f8fb62a1cb"
      },
      "execution_count": 62,
      "outputs": [
        {
          "output_type": "stream",
          "name": "stdout",
          "text": [
            "              precision    recall  f1-score   support\n",
            "\n",
            "           0       0.99      1.00      1.00      3601\n",
            "           1       1.00      0.67      0.80        70\n",
            "\n",
            "    accuracy                           0.99      3671\n",
            "   macro avg       1.00      0.84      0.90      3671\n",
            "weighted avg       0.99      0.99      0.99      3671\n",
            "\n"
          ]
        }
      ]
    }
  ]
}