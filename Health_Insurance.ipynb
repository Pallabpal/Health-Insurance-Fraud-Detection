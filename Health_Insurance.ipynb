{
  "nbformat": 4,
  "nbformat_minor": 0,
  "metadata": {
    "colab": {
      "provenance": [],
      "authorship_tag": "ABX9TyMlz1cPTDQIYBCrU0NAiwY8",
      "include_colab_link": true
    },
    "kernelspec": {
      "name": "python3",
      "display_name": "Python 3"
    },
    "language_info": {
      "name": "python"
    }
  },
  "cells": [
    {
      "cell_type": "markdown",
      "metadata": {
        "id": "view-in-github",
        "colab_type": "text"
      },
      "source": [
        "<a href=\"https://colab.research.google.com/github/Pallabpal/Health-Insurance-Fraud-Detection/blob/main/Health_Insurance.ipynb\" target=\"_parent\"><img src=\"https://colab.research.google.com/assets/colab-badge.svg\" alt=\"Open In Colab\"/></a>"
      ]
    },
    {
      "cell_type": "markdown",
      "source": [
        "**Import Libraries**"
      ],
      "metadata": {
        "id": "MRsaAAdPTAoQ"
      }
    },
    {
      "cell_type": "code",
      "execution_count": 2,
      "metadata": {
        "id": "d1o3r8DeSada"
      },
      "outputs": [],
      "source": [
        "import numpy as np \n",
        "import pandas as pd\n",
        "\n",
        "import seaborn as sns\n",
        "import matplotlib.pyplot as plt\n",
        "\n",
        "from sklearn.utils import resample\n",
        "from sklearn.preprocessing import LabelBinarizer, LabelEncoder\n",
        "from sklearn.model_selection import train_test_split, cross_val_score\n",
        "\n",
        "from sklearn.ensemble import RandomForestClassifier\n",
        "from sklearn.metrics import classification_report, confusion_matrix\n",
        "\n",
        "from sklearn.model_selection import StratifiedKFold \n",
        "from collections import Counter\n",
        "\n",
        "from joblib import dump, load\n",
        "\n",
        "import warnings\n",
        "warnings.filterwarnings('ignore')"
      ]
    },
    {
      "cell_type": "markdown",
      "source": [
        "**Dataset loading**"
      ],
      "metadata": {
        "id": "fyIAs6aSTS9p"
      }
    },
    {
      "cell_type": "code",
      "source": [
        "dataset = pd.read_csv('Dataa.csv')"
      ],
      "metadata": {
        "id": "ugdQRtgJS0P8"
      },
      "execution_count": 3,
      "outputs": []
    },
    {
      "cell_type": "code",
      "source": [
        "dataset.head(3)"
      ],
      "metadata": {
        "colab": {
          "base_uri": "https://localhost:8080/",
          "height": 393
        },
        "id": "8T4vwhAaTg4m",
        "outputId": "cb4b32a7-9c63-4281-8afc-4d402e9526de"
      },
      "execution_count": 7,
      "outputs": [
        {
          "output_type": "execute_result",
          "data": {
            "text/plain": [
              "  Area_Service Hospital County  Hospital Id          Age Gender  \\\n",
              "0   Western NY        Allegany         37.0     30 to 49      F   \n",
              "1   Western NY        Allegany         37.0  70 or Older      F   \n",
              "2   Western NY        Allegany         37.0     30 to 49      F   \n",
              "\n",
              "  Cultural_group          ethnicity  Days_spend_hsptl Admission_type  \\\n",
              "0          White  Not Span/Hispanic                 4       Elective   \n",
              "1          White  Not Span/Hispanic                 4         Urgent   \n",
              "2          White  Not Span/Hispanic                 3         Urgent   \n",
              "\n",
              "    Home or self care,  ...  Mortality risk  Surg_Description Weight_baby  \\\n",
              "0    Home or Self Care  ...               1           Medical           0   \n",
              "1  Short-term Hospital  ...               2           Medical           0   \n",
              "2    Home or Self Care  ...               1           Medical           0   \n",
              "\n",
              "   Abortion  Emergency dept_yes/No Tot_charg  Tot_cost  \\\n",
              "0         N                      Y   5511.95   5582.49   \n",
              "1         N                      Y   4783.20   5162.82   \n",
              "2         N                      Y   3829.15   4056.52   \n",
              "\n",
              "  ratio_of_total_costs_to_total_charges Result  Payment_Typology  \n",
              "0                              1.012798      1                 1  \n",
              "1                              1.079365      1                 1  \n",
              "2                              1.059379      1                 1  \n",
              "\n",
              "[3 rows x 24 columns]"
            ],
            "text/html": [
              "\n",
              "  <div id=\"df-b170f9ea-f166-4414-9689-984787bc5008\">\n",
              "    <div class=\"colab-df-container\">\n",
              "      <div>\n",
              "<style scoped>\n",
              "    .dataframe tbody tr th:only-of-type {\n",
              "        vertical-align: middle;\n",
              "    }\n",
              "\n",
              "    .dataframe tbody tr th {\n",
              "        vertical-align: top;\n",
              "    }\n",
              "\n",
              "    .dataframe thead th {\n",
              "        text-align: right;\n",
              "    }\n",
              "</style>\n",
              "<table border=\"1\" class=\"dataframe\">\n",
              "  <thead>\n",
              "    <tr style=\"text-align: right;\">\n",
              "      <th></th>\n",
              "      <th>Area_Service</th>\n",
              "      <th>Hospital County</th>\n",
              "      <th>Hospital Id</th>\n",
              "      <th>Age</th>\n",
              "      <th>Gender</th>\n",
              "      <th>Cultural_group</th>\n",
              "      <th>ethnicity</th>\n",
              "      <th>Days_spend_hsptl</th>\n",
              "      <th>Admission_type</th>\n",
              "      <th>Home or self care,</th>\n",
              "      <th>...</th>\n",
              "      <th>Mortality risk</th>\n",
              "      <th>Surg_Description</th>\n",
              "      <th>Weight_baby</th>\n",
              "      <th>Abortion</th>\n",
              "      <th>Emergency dept_yes/No</th>\n",
              "      <th>Tot_charg</th>\n",
              "      <th>Tot_cost</th>\n",
              "      <th>ratio_of_total_costs_to_total_charges</th>\n",
              "      <th>Result</th>\n",
              "      <th>Payment_Typology</th>\n",
              "    </tr>\n",
              "  </thead>\n",
              "  <tbody>\n",
              "    <tr>\n",
              "      <th>0</th>\n",
              "      <td>Western NY</td>\n",
              "      <td>Allegany</td>\n",
              "      <td>37.0</td>\n",
              "      <td>30 to 49</td>\n",
              "      <td>F</td>\n",
              "      <td>White</td>\n",
              "      <td>Not Span/Hispanic</td>\n",
              "      <td>4</td>\n",
              "      <td>Elective</td>\n",
              "      <td>Home or Self Care</td>\n",
              "      <td>...</td>\n",
              "      <td>1</td>\n",
              "      <td>Medical</td>\n",
              "      <td>0</td>\n",
              "      <td>N</td>\n",
              "      <td>Y</td>\n",
              "      <td>5511.95</td>\n",
              "      <td>5582.49</td>\n",
              "      <td>1.012798</td>\n",
              "      <td>1</td>\n",
              "      <td>1</td>\n",
              "    </tr>\n",
              "    <tr>\n",
              "      <th>1</th>\n",
              "      <td>Western NY</td>\n",
              "      <td>Allegany</td>\n",
              "      <td>37.0</td>\n",
              "      <td>70 or Older</td>\n",
              "      <td>F</td>\n",
              "      <td>White</td>\n",
              "      <td>Not Span/Hispanic</td>\n",
              "      <td>4</td>\n",
              "      <td>Urgent</td>\n",
              "      <td>Short-term Hospital</td>\n",
              "      <td>...</td>\n",
              "      <td>2</td>\n",
              "      <td>Medical</td>\n",
              "      <td>0</td>\n",
              "      <td>N</td>\n",
              "      <td>Y</td>\n",
              "      <td>4783.20</td>\n",
              "      <td>5162.82</td>\n",
              "      <td>1.079365</td>\n",
              "      <td>1</td>\n",
              "      <td>1</td>\n",
              "    </tr>\n",
              "    <tr>\n",
              "      <th>2</th>\n",
              "      <td>Western NY</td>\n",
              "      <td>Allegany</td>\n",
              "      <td>37.0</td>\n",
              "      <td>30 to 49</td>\n",
              "      <td>F</td>\n",
              "      <td>White</td>\n",
              "      <td>Not Span/Hispanic</td>\n",
              "      <td>3</td>\n",
              "      <td>Urgent</td>\n",
              "      <td>Home or Self Care</td>\n",
              "      <td>...</td>\n",
              "      <td>1</td>\n",
              "      <td>Medical</td>\n",
              "      <td>0</td>\n",
              "      <td>N</td>\n",
              "      <td>Y</td>\n",
              "      <td>3829.15</td>\n",
              "      <td>4056.52</td>\n",
              "      <td>1.059379</td>\n",
              "      <td>1</td>\n",
              "      <td>1</td>\n",
              "    </tr>\n",
              "  </tbody>\n",
              "</table>\n",
              "<p>3 rows × 24 columns</p>\n",
              "</div>\n",
              "      <button class=\"colab-df-convert\" onclick=\"convertToInteractive('df-b170f9ea-f166-4414-9689-984787bc5008')\"\n",
              "              title=\"Convert this dataframe to an interactive table.\"\n",
              "              style=\"display:none;\">\n",
              "        \n",
              "  <svg xmlns=\"http://www.w3.org/2000/svg\" height=\"24px\"viewBox=\"0 0 24 24\"\n",
              "       width=\"24px\">\n",
              "    <path d=\"M0 0h24v24H0V0z\" fill=\"none\"/>\n",
              "    <path d=\"M18.56 5.44l.94 2.06.94-2.06 2.06-.94-2.06-.94-.94-2.06-.94 2.06-2.06.94zm-11 1L8.5 8.5l.94-2.06 2.06-.94-2.06-.94L8.5 2.5l-.94 2.06-2.06.94zm10 10l.94 2.06.94-2.06 2.06-.94-2.06-.94-.94-2.06-.94 2.06-2.06.94z\"/><path d=\"M17.41 7.96l-1.37-1.37c-.4-.4-.92-.59-1.43-.59-.52 0-1.04.2-1.43.59L10.3 9.45l-7.72 7.72c-.78.78-.78 2.05 0 2.83L4 21.41c.39.39.9.59 1.41.59.51 0 1.02-.2 1.41-.59l7.78-7.78 2.81-2.81c.8-.78.8-2.07 0-2.86zM5.41 20L4 18.59l7.72-7.72 1.47 1.35L5.41 20z\"/>\n",
              "  </svg>\n",
              "      </button>\n",
              "      \n",
              "  <style>\n",
              "    .colab-df-container {\n",
              "      display:flex;\n",
              "      flex-wrap:wrap;\n",
              "      gap: 12px;\n",
              "    }\n",
              "\n",
              "    .colab-df-convert {\n",
              "      background-color: #E8F0FE;\n",
              "      border: none;\n",
              "      border-radius: 50%;\n",
              "      cursor: pointer;\n",
              "      display: none;\n",
              "      fill: #1967D2;\n",
              "      height: 32px;\n",
              "      padding: 0 0 0 0;\n",
              "      width: 32px;\n",
              "    }\n",
              "\n",
              "    .colab-df-convert:hover {\n",
              "      background-color: #E2EBFA;\n",
              "      box-shadow: 0px 1px 2px rgba(60, 64, 67, 0.3), 0px 1px 3px 1px rgba(60, 64, 67, 0.15);\n",
              "      fill: #174EA6;\n",
              "    }\n",
              "\n",
              "    [theme=dark] .colab-df-convert {\n",
              "      background-color: #3B4455;\n",
              "      fill: #D2E3FC;\n",
              "    }\n",
              "\n",
              "    [theme=dark] .colab-df-convert:hover {\n",
              "      background-color: #434B5C;\n",
              "      box-shadow: 0px 1px 3px 1px rgba(0, 0, 0, 0.15);\n",
              "      filter: drop-shadow(0px 1px 2px rgba(0, 0, 0, 0.3));\n",
              "      fill: #FFFFFF;\n",
              "    }\n",
              "  </style>\n",
              "\n",
              "      <script>\n",
              "        const buttonEl =\n",
              "          document.querySelector('#df-b170f9ea-f166-4414-9689-984787bc5008 button.colab-df-convert');\n",
              "        buttonEl.style.display =\n",
              "          google.colab.kernel.accessAllowed ? 'block' : 'none';\n",
              "\n",
              "        async function convertToInteractive(key) {\n",
              "          const element = document.querySelector('#df-b170f9ea-f166-4414-9689-984787bc5008');\n",
              "          const dataTable =\n",
              "            await google.colab.kernel.invokeFunction('convertToInteractive',\n",
              "                                                     [key], {});\n",
              "          if (!dataTable) return;\n",
              "\n",
              "          const docLinkHtml = 'Like what you see? Visit the ' +\n",
              "            '<a target=\"_blank\" href=https://colab.research.google.com/notebooks/data_table.ipynb>data table notebook</a>'\n",
              "            + ' to learn more about interactive tables.';\n",
              "          element.innerHTML = '';\n",
              "          dataTable['output_type'] = 'display_data';\n",
              "          await google.colab.output.renderOutput(dataTable, element);\n",
              "          const docLink = document.createElement('div');\n",
              "          docLink.innerHTML = docLinkHtml;\n",
              "          element.appendChild(docLink);\n",
              "        }\n",
              "      </script>\n",
              "    </div>\n",
              "  </div>\n",
              "  "
            ]
          },
          "metadata": {},
          "execution_count": 7
        }
      ]
    },
    {
      "cell_type": "code",
      "source": [
        "dataset.columns"
      ],
      "metadata": {
        "colab": {
          "base_uri": "https://localhost:8080/"
        },
        "id": "6vhr3E6VTiKx",
        "outputId": "3afa0631-6fa8-488a-c6f9-1c460d77ce2a"
      },
      "execution_count": 5,
      "outputs": [
        {
          "output_type": "execute_result",
          "data": {
            "text/plain": [
              "Index(['Area_Service', 'Hospital County', 'Hospital Id', 'Age', 'Gender',\n",
              "       'Cultural_group', 'ethnicity', 'Days_spend_hsptl', 'Admission_type',\n",
              "       'Home or self care,', 'ccs_diagnosis_code', 'ccs_procedure_code',\n",
              "       'apr_drg_description', 'Code_illness', 'Mortality risk',\n",
              "       'Surg_Description', 'Weight_baby', 'Abortion', 'Emergency dept_yes/No',\n",
              "       'Tot_charg', 'Tot_cost', 'ratio_of_total_costs_to_total_charges',\n",
              "       'Result', 'Payment_Typology'],\n",
              "      dtype='object')"
            ]
          },
          "metadata": {},
          "execution_count": 5
        }
      ]
    },
    {
      "cell_type": "markdown",
      "source": [
        "**removing spaces in dataset column names**"
      ],
      "metadata": {
        "id": "Ca_I7wnKVsXg"
      }
    },
    {
      "cell_type": "code",
      "source": [
        "dataset.columns = dataset.columns.to_series().apply(lambda x: x.replace(' ', '_')).to_list()\n",
        "dataset.columns = dataset.columns.to_series().apply(lambda x: x.replace('/', '_')).to_list()\n",
        "dataset.columns.values"
      ],
      "metadata": {
        "colab": {
          "base_uri": "https://localhost:8080/"
        },
        "id": "9BGFSPqIVDt-",
        "outputId": "6c3e2a87-c689-411b-ea63-70e6b3ff8060"
      },
      "execution_count": 8,
      "outputs": [
        {
          "output_type": "execute_result",
          "data": {
            "text/plain": [
              "array(['Area_Service', 'Hospital_County', 'Hospital_Id', 'Age', 'Gender',\n",
              "       'Cultural_group', 'ethnicity', 'Days_spend_hsptl',\n",
              "       'Admission_type', 'Home_or_self_care,', 'ccs_diagnosis_code',\n",
              "       'ccs_procedure_code', 'apr_drg_description', 'Code_illness',\n",
              "       'Mortality_risk', 'Surg_Description', 'Weight_baby', 'Abortion',\n",
              "       'Emergency_dept_yes_No', 'Tot_charg', 'Tot_cost',\n",
              "       'ratio_of_total_costs_to_total_charges', 'Result',\n",
              "       'Payment_Typology'], dtype=object)"
            ]
          },
          "metadata": {},
          "execution_count": 8
        }
      ]
    },
    {
      "cell_type": "code",
      "source": [
        "dataset.rename(columns={'Home_or_self_care,': 'Home_or_self_care'}, inplace=True)"
      ],
      "metadata": {
        "id": "JroSALXwVyaq"
      },
      "execution_count": 9,
      "outputs": []
    },
    {
      "cell_type": "code",
      "source": [
        "data= pd.read_csv('Dataa.csv')\n",
        "data_sample_view = data.head(2)"
      ],
      "metadata": {
        "id": "Nep_QAraV5sU"
      },
      "execution_count": 10,
      "outputs": []
    },
    {
      "cell_type": "markdown",
      "source": [
        "**For deployment part, sample dataframe view**"
      ],
      "metadata": {
        "id": "R2Vp0s7iWMKX"
      }
    },
    {
      "cell_type": "code",
      "source": [
        "dump(data_sample_view, 'data_sample_view.joblib')"
      ],
      "metadata": {
        "colab": {
          "base_uri": "https://localhost:8080/"
        },
        "id": "FKadoNP0WALr",
        "outputId": "4a631ff0-5a95-43e2-df34-4ac0a8eec657"
      },
      "execution_count": 11,
      "outputs": [
        {
          "output_type": "execute_result",
          "data": {
            "text/plain": [
              "['data_sample_view.joblib']"
            ]
          },
          "metadata": {},
          "execution_count": 11
        }
      ]
    },
    {
      "cell_type": "code",
      "source": [
        "dataset.shape"
      ],
      "metadata": {
        "colab": {
          "base_uri": "https://localhost:8080/"
        },
        "id": "dBjVpjoiWGUZ",
        "outputId": "4c917a3b-e7b3-49c6-8ebc-cc3ff245bd45"
      },
      "execution_count": 12,
      "outputs": [
        {
          "output_type": "execute_result",
          "data": {
            "text/plain": [
              "(3237, 24)"
            ]
          },
          "metadata": {},
          "execution_count": 12
        }
      ]
    },
    {
      "cell_type": "code",
      "source": [
        "dataset.drop_duplicates(inplace=True)\n",
        "dataset.dropna(inplace=True)\n",
        "dataset.shape"
      ],
      "metadata": {
        "colab": {
          "base_uri": "https://localhost:8080/"
        },
        "id": "qX1b9J5iWVPx",
        "outputId": "0f265ae1-6ee0-4e55-c0f7-f2af168d43dd"
      },
      "execution_count": 13,
      "outputs": [
        {
          "output_type": "execute_result",
          "data": {
            "text/plain": [
              "(3212, 24)"
            ]
          },
          "metadata": {},
          "execution_count": 13
        }
      ]
    },
    {
      "cell_type": "code",
      "source": [
        "dataset.select_dtypes(include=['object']).head(2)"
      ],
      "metadata": {
        "colab": {
          "base_uri": "https://localhost:8080/",
          "height": 210
        },
        "id": "Z0IcVX7bWhax",
        "outputId": "f44ccfb6-2437-424c-a337-b76d90e9e320"
      },
      "execution_count": 14,
      "outputs": [
        {
          "output_type": "execute_result",
          "data": {
            "text/plain": [
              "  Area_Service Hospital_County          Age Gender Cultural_group  \\\n",
              "0   Western NY        Allegany     30 to 49      F          White   \n",
              "1   Western NY        Allegany  70 or Older      F          White   \n",
              "\n",
              "           ethnicity Admission_type    Home_or_self_care  \\\n",
              "0  Not Span/Hispanic       Elective    Home or Self Care   \n",
              "1  Not Span/Hispanic         Urgent  Short-term Hospital   \n",
              "\n",
              "                  apr_drg_description Surg_Description Abortion  \\\n",
              "0                     Other pneumonia          Medical        N   \n",
              "1  Cellulitis & other skin infections          Medical        N   \n",
              "\n",
              "  Emergency_dept_yes_No  \n",
              "0                     Y  \n",
              "1                     Y  "
            ],
            "text/html": [
              "\n",
              "  <div id=\"df-12be79fb-4e2c-4666-b2a3-3bdadf3ae3c2\">\n",
              "    <div class=\"colab-df-container\">\n",
              "      <div>\n",
              "<style scoped>\n",
              "    .dataframe tbody tr th:only-of-type {\n",
              "        vertical-align: middle;\n",
              "    }\n",
              "\n",
              "    .dataframe tbody tr th {\n",
              "        vertical-align: top;\n",
              "    }\n",
              "\n",
              "    .dataframe thead th {\n",
              "        text-align: right;\n",
              "    }\n",
              "</style>\n",
              "<table border=\"1\" class=\"dataframe\">\n",
              "  <thead>\n",
              "    <tr style=\"text-align: right;\">\n",
              "      <th></th>\n",
              "      <th>Area_Service</th>\n",
              "      <th>Hospital_County</th>\n",
              "      <th>Age</th>\n",
              "      <th>Gender</th>\n",
              "      <th>Cultural_group</th>\n",
              "      <th>ethnicity</th>\n",
              "      <th>Admission_type</th>\n",
              "      <th>Home_or_self_care</th>\n",
              "      <th>apr_drg_description</th>\n",
              "      <th>Surg_Description</th>\n",
              "      <th>Abortion</th>\n",
              "      <th>Emergency_dept_yes_No</th>\n",
              "    </tr>\n",
              "  </thead>\n",
              "  <tbody>\n",
              "    <tr>\n",
              "      <th>0</th>\n",
              "      <td>Western NY</td>\n",
              "      <td>Allegany</td>\n",
              "      <td>30 to 49</td>\n",
              "      <td>F</td>\n",
              "      <td>White</td>\n",
              "      <td>Not Span/Hispanic</td>\n",
              "      <td>Elective</td>\n",
              "      <td>Home or Self Care</td>\n",
              "      <td>Other pneumonia</td>\n",
              "      <td>Medical</td>\n",
              "      <td>N</td>\n",
              "      <td>Y</td>\n",
              "    </tr>\n",
              "    <tr>\n",
              "      <th>1</th>\n",
              "      <td>Western NY</td>\n",
              "      <td>Allegany</td>\n",
              "      <td>70 or Older</td>\n",
              "      <td>F</td>\n",
              "      <td>White</td>\n",
              "      <td>Not Span/Hispanic</td>\n",
              "      <td>Urgent</td>\n",
              "      <td>Short-term Hospital</td>\n",
              "      <td>Cellulitis &amp; other skin infections</td>\n",
              "      <td>Medical</td>\n",
              "      <td>N</td>\n",
              "      <td>Y</td>\n",
              "    </tr>\n",
              "  </tbody>\n",
              "</table>\n",
              "</div>\n",
              "      <button class=\"colab-df-convert\" onclick=\"convertToInteractive('df-12be79fb-4e2c-4666-b2a3-3bdadf3ae3c2')\"\n",
              "              title=\"Convert this dataframe to an interactive table.\"\n",
              "              style=\"display:none;\">\n",
              "        \n",
              "  <svg xmlns=\"http://www.w3.org/2000/svg\" height=\"24px\"viewBox=\"0 0 24 24\"\n",
              "       width=\"24px\">\n",
              "    <path d=\"M0 0h24v24H0V0z\" fill=\"none\"/>\n",
              "    <path d=\"M18.56 5.44l.94 2.06.94-2.06 2.06-.94-2.06-.94-.94-2.06-.94 2.06-2.06.94zm-11 1L8.5 8.5l.94-2.06 2.06-.94-2.06-.94L8.5 2.5l-.94 2.06-2.06.94zm10 10l.94 2.06.94-2.06 2.06-.94-2.06-.94-.94-2.06-.94 2.06-2.06.94z\"/><path d=\"M17.41 7.96l-1.37-1.37c-.4-.4-.92-.59-1.43-.59-.52 0-1.04.2-1.43.59L10.3 9.45l-7.72 7.72c-.78.78-.78 2.05 0 2.83L4 21.41c.39.39.9.59 1.41.59.51 0 1.02-.2 1.41-.59l7.78-7.78 2.81-2.81c.8-.78.8-2.07 0-2.86zM5.41 20L4 18.59l7.72-7.72 1.47 1.35L5.41 20z\"/>\n",
              "  </svg>\n",
              "      </button>\n",
              "      \n",
              "  <style>\n",
              "    .colab-df-container {\n",
              "      display:flex;\n",
              "      flex-wrap:wrap;\n",
              "      gap: 12px;\n",
              "    }\n",
              "\n",
              "    .colab-df-convert {\n",
              "      background-color: #E8F0FE;\n",
              "      border: none;\n",
              "      border-radius: 50%;\n",
              "      cursor: pointer;\n",
              "      display: none;\n",
              "      fill: #1967D2;\n",
              "      height: 32px;\n",
              "      padding: 0 0 0 0;\n",
              "      width: 32px;\n",
              "    }\n",
              "\n",
              "    .colab-df-convert:hover {\n",
              "      background-color: #E2EBFA;\n",
              "      box-shadow: 0px 1px 2px rgba(60, 64, 67, 0.3), 0px 1px 3px 1px rgba(60, 64, 67, 0.15);\n",
              "      fill: #174EA6;\n",
              "    }\n",
              "\n",
              "    [theme=dark] .colab-df-convert {\n",
              "      background-color: #3B4455;\n",
              "      fill: #D2E3FC;\n",
              "    }\n",
              "\n",
              "    [theme=dark] .colab-df-convert:hover {\n",
              "      background-color: #434B5C;\n",
              "      box-shadow: 0px 1px 3px 1px rgba(0, 0, 0, 0.15);\n",
              "      filter: drop-shadow(0px 1px 2px rgba(0, 0, 0, 0.3));\n",
              "      fill: #FFFFFF;\n",
              "    }\n",
              "  </style>\n",
              "\n",
              "      <script>\n",
              "        const buttonEl =\n",
              "          document.querySelector('#df-12be79fb-4e2c-4666-b2a3-3bdadf3ae3c2 button.colab-df-convert');\n",
              "        buttonEl.style.display =\n",
              "          google.colab.kernel.accessAllowed ? 'block' : 'none';\n",
              "\n",
              "        async function convertToInteractive(key) {\n",
              "          const element = document.querySelector('#df-12be79fb-4e2c-4666-b2a3-3bdadf3ae3c2');\n",
              "          const dataTable =\n",
              "            await google.colab.kernel.invokeFunction('convertToInteractive',\n",
              "                                                     [key], {});\n",
              "          if (!dataTable) return;\n",
              "\n",
              "          const docLinkHtml = 'Like what you see? Visit the ' +\n",
              "            '<a target=\"_blank\" href=https://colab.research.google.com/notebooks/data_table.ipynb>data table notebook</a>'\n",
              "            + ' to learn more about interactive tables.';\n",
              "          element.innerHTML = '';\n",
              "          dataTable['output_type'] = 'display_data';\n",
              "          await google.colab.output.renderOutput(dataTable, element);\n",
              "          const docLink = document.createElement('div');\n",
              "          docLink.innerHTML = docLinkHtml;\n",
              "          element.appendChild(docLink);\n",
              "        }\n",
              "      </script>\n",
              "    </div>\n",
              "  </div>\n",
              "  "
            ]
          },
          "metadata": {},
          "execution_count": 14
        }
      ]
    },
    {
      "cell_type": "markdown",
      "source": [
        "**Trying to convert string formatted data to integer / find out which value is not getting converted to integer datatype**"
      ],
      "metadata": {
        "id": "xHPa4dNRW8lp"
      }
    },
    {
      "cell_type": "code",
      "source": [
        "for i in dataset.Days_spend_hsptl.unique():\n",
        "    try:\n",
        "        int(i)\n",
        "    except ValueError:\n",
        "        print(i)"
      ],
      "metadata": {
        "id": "3ipdDL53Wo09"
      },
      "execution_count": 16,
      "outputs": []
    },
    {
      "cell_type": "code",
      "source": [
        "dataset.Days_spend_hsptl = dataset.Days_spend_hsptl.astype('int')\n",
        "dataset.Hospital_Id = dataset.Hospital_Id.astype('int')\n",
        "dataset.Mortality_risk = dataset.Mortality_risk.astype('int')"
      ],
      "metadata": {
        "id": "ALCgTlTSXW3A"
      },
      "execution_count": 19,
      "outputs": []
    },
    {
      "cell_type": "markdown",
      "source": [
        "**Dropping non important Columns**"
      ],
      "metadata": {
        "id": "nfPxk_IMX0QP"
      }
    },
    {
      "cell_type": "code",
      "source": [
        "dataset.drop(['Hospital_Id', 'apr_drg_description', 'Abortion', 'Weight_baby'], axis=1, inplace=True)"
      ],
      "metadata": {
        "id": "VZMaYFRNXeE6"
      },
      "execution_count": null,
      "outputs": []
    },
    {
      "cell_type": "markdown",
      "source": [
        "**Encoding**"
      ],
      "metadata": {
        "id": "95pe2dlBYYJi"
      }
    },
    {
      "cell_type": "code",
      "source": [
        "from sklearn.preprocessing import LabelBinarizer, LabelEncoder\n",
        "label = LabelEncoder()\n",
        "label_binizer =LabelBinarizer()"
      ],
      "metadata": {
        "id": "fzDROk3sYatw"
      },
      "execution_count": 21,
      "outputs": []
    },
    {
      "cell_type": "code",
      "source": [
        "label_area = label.fit(dataset.Area_Service)\n",
        "label_Hospital_County = label.fit(dataset.Hospital_County)\n",
        "label_Age = label.fit(dataset.Age)\n",
        "label_Cultural_group = label.fit(dataset.Cultural_group)\n",
        "label_ethnicity= label.fit(dataset.ethnicity)\n",
        "label_Admission_type = label.fit(dataset.Admission_type)\n",
        "label_Home_or_self_care = label.fit(dataset.Home_or_self_care)\n",
        "one_hot_Gender = label_binizer.fit(dataset.Gender)\n",
        "one_hot_Surg_Description = label_binizer.fit(dataset.Surg_Description)\n",
        "one_hot_Emergency_dept_yes_No = label_binizer.fit(dataset.Emergency_dept_yes_No)"
      ],
      "metadata": {
        "id": "47dY3FQVYgFV"
      },
      "execution_count": 22,
      "outputs": []
    },
    {
      "cell_type": "code",
      "source": [
        "label_encoder_list = [label_area, label_Hospital_County,\n",
        "                label_Age, label_Cultural_group,\n",
        "                label_ethnicity, label_Admission_type,\n",
        "                label_Home_or_self_care]\n",
        "\n",
        "one_hot_coder_list = [one_hot_Gender, one_hot_Surg_Description, one_hot_Emergency_dept_yes_No]"
      ],
      "metadata": {
        "id": "j5WHDic_Yvxx"
      },
      "execution_count": 23,
      "outputs": []
    },
    {
      "cell_type": "markdown",
      "source": [
        "**Pickling encoding object & columns for deployment point of view**"
      ],
      "metadata": {
        "id": "Z61OghnAY8R5"
      }
    },
    {
      "cell_type": "code",
      "source": [
        "from joblib import dump, load"
      ],
      "metadata": {
        "id": "7AvKqg9CYzb9"
      },
      "execution_count": 24,
      "outputs": []
    },
    {
      "cell_type": "code",
      "source": [
        "dump(label_encoder_list, 'label_encoder_list.joblib')\n",
        "dump(one_hot_coder_list, 'one_hot_coder_list.joblib')"
      ],
      "metadata": {
        "colab": {
          "base_uri": "https://localhost:8080/"
        },
        "id": "szKONRc9ZBzP",
        "outputId": "971156c8-f56d-44ab-82e6-48acd5d2cef6"
      },
      "execution_count": 25,
      "outputs": [
        {
          "output_type": "execute_result",
          "data": {
            "text/plain": [
              "['one_hot_coder_list.joblib']"
            ]
          },
          "metadata": {},
          "execution_count": 25
        }
      ]
    },
    {
      "cell_type": "code",
      "source": [
        "label_to_column = ['Area_Service', 'Hospital_County',\n",
        "                  'Age', 'Cultural_group', 'ethnicity',\n",
        "                  'Admission_type', 'Home_or_self_care']"
      ],
      "metadata": {
        "id": "H4Qai3BkZJwE"
      },
      "execution_count": 26,
      "outputs": []
    },
    {
      "cell_type": "code",
      "source": [
        "one_hot_column = ['Gender', 'Surg_Description', 'Emergency_dept_yes_No']"
      ],
      "metadata": {
        "id": "x9A2xD2KZM0E"
      },
      "execution_count": 27,
      "outputs": []
    },
    {
      "cell_type": "code",
      "source": [
        "dump(label_to_column, 'label_to_column.joblib')"
      ],
      "metadata": {
        "colab": {
          "base_uri": "https://localhost:8080/"
        },
        "id": "AtI1FwazZPqW",
        "outputId": "3880f611-2fe6-4460-8c66-27e432b169f8"
      },
      "execution_count": 28,
      "outputs": [
        {
          "output_type": "execute_result",
          "data": {
            "text/plain": [
              "['label_to_column.joblib']"
            ]
          },
          "metadata": {},
          "execution_count": 28
        }
      ]
    },
    {
      "cell_type": "code",
      "source": [
        "dump(one_hot_column, 'one_hot_column.joblib')"
      ],
      "metadata": {
        "colab": {
          "base_uri": "https://localhost:8080/"
        },
        "id": "zpCY5NHIZSEc",
        "outputId": "3f53e9b3-97cf-47eb-d748-439c30a0a9bd"
      },
      "execution_count": 29,
      "outputs": [
        {
          "output_type": "execute_result",
          "data": {
            "text/plain": [
              "['one_hot_column.joblib']"
            ]
          },
          "metadata": {},
          "execution_count": 29
        }
      ]
    },
    {
      "cell_type": "code",
      "source": [],
      "metadata": {
        "id": "ELNgcILEZVCQ"
      },
      "execution_count": null,
      "outputs": []
    }
  ]
}