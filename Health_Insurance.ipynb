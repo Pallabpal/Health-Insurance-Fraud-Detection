{
  "cells": [
    {
      "cell_type": "markdown",
      "metadata": {
        "id": "view-in-github",
        "colab_type": "text"
      },
      "source": [
        "<a href=\"https://colab.research.google.com/github/Pallabpal/Health-Insurance-Fraud-Detection/blob/main/Health_Insurance.ipynb\" target=\"_parent\"><img src=\"https://colab.research.google.com/assets/colab-badge.svg\" alt=\"Open In Colab\"/></a>"
      ]
    },
    {
      "cell_type": "markdown",
      "metadata": {
        "id": "MRsaAAdPTAoQ"
      },
      "source": [
        "**Import Libraries**"
      ]
    },
    {
      "cell_type": "code",
      "execution_count": null,
      "metadata": {
        "id": "d1o3r8DeSada"
      },
      "outputs": [],
      "source": [
        "import numpy as np \n",
        "import pandas as pd\n",
        "\n",
        "import seaborn as sns\n",
        "import matplotlib.pyplot as plt\n",
        "\n",
        "from sklearn.utils import resample\n",
        "from sklearn.preprocessing import LabelBinarizer, LabelEncoder\n",
        "from sklearn.model_selection import train_test_split, cross_val_score\n",
        "\n",
        "from sklearn.ensemble import RandomForestClassifier\n",
        "from sklearn.metrics import classification_report, confusion_matrix\n",
        "\n",
        "from sklearn.model_selection import StratifiedKFold \n",
        "from collections import Counter\n",
        "\n",
        "from joblib import dump, load\n",
        "\n",
        "import warnings\n",
        "warnings.filterwarnings('ignore')"
      ]
    },
    {
      "cell_type": "markdown",
      "metadata": {
        "id": "fyIAs6aSTS9p"
      },
      "source": [
        "**Dataset loading**"
      ]
    },
    {
      "cell_type": "code",
      "execution_count": null,
      "metadata": {
        "id": "ugdQRtgJS0P8"
      },
      "outputs": [],
      "source": [
        "dataset = pd.read_csv('Insurance Dataset.csv')"
      ]
    },
    {
      "cell_type": "code",
      "execution_count": null,
      "metadata": {
        "colab": {
          "base_uri": "https://localhost:8080/",
          "height": 393
        },
        "id": "8T4vwhAaTg4m",
        "outputId": "0b95b842-6729-4c3e-d7bf-751696ba40d8"
      },
      "outputs": [
        {
          "data": {
            "text/html": [
              "<div>\n",
              "<style scoped>\n",
              "    .dataframe tbody tr th:only-of-type {\n",
              "        vertical-align: middle;\n",
              "    }\n",
              "\n",
              "    .dataframe tbody tr th {\n",
              "        vertical-align: top;\n",
              "    }\n",
              "\n",
              "    .dataframe thead th {\n",
              "        text-align: right;\n",
              "    }\n",
              "</style>\n",
              "<table border=\"1\" class=\"dataframe\">\n",
              "  <thead>\n",
              "    <tr style=\"text-align: right;\">\n",
              "      <th></th>\n",
              "      <th>Area_Service</th>\n",
              "      <th>Hospital County</th>\n",
              "      <th>Hospital Id</th>\n",
              "      <th>Age</th>\n",
              "      <th>Gender</th>\n",
              "      <th>Cultural_group</th>\n",
              "      <th>ethnicity</th>\n",
              "      <th>Days_spend_hsptl</th>\n",
              "      <th>Admission_type</th>\n",
              "      <th>Home or self care,</th>\n",
              "      <th>...</th>\n",
              "      <th>Mortality risk</th>\n",
              "      <th>Surg_Description</th>\n",
              "      <th>Weight_baby</th>\n",
              "      <th>Abortion</th>\n",
              "      <th>Emergency dept_yes/No</th>\n",
              "      <th>Tot_charg</th>\n",
              "      <th>Tot_cost</th>\n",
              "      <th>ratio_of_total_costs_to_total_charges</th>\n",
              "      <th>Result</th>\n",
              "      <th>Payment_Typology</th>\n",
              "    </tr>\n",
              "  </thead>\n",
              "  <tbody>\n",
              "    <tr>\n",
              "      <th>0</th>\n",
              "      <td>Western NY</td>\n",
              "      <td>Allegany</td>\n",
              "      <td>37.0</td>\n",
              "      <td>30 to 49</td>\n",
              "      <td>F</td>\n",
              "      <td>White</td>\n",
              "      <td>Not Span/Hispanic</td>\n",
              "      <td>4</td>\n",
              "      <td>Elective</td>\n",
              "      <td>Home or Self Care</td>\n",
              "      <td>...</td>\n",
              "      <td>1.0</td>\n",
              "      <td>Medical</td>\n",
              "      <td>0</td>\n",
              "      <td>N</td>\n",
              "      <td>Y</td>\n",
              "      <td>5511.95</td>\n",
              "      <td>5582.49</td>\n",
              "      <td>1.012798</td>\n",
              "      <td>1</td>\n",
              "      <td>1</td>\n",
              "    </tr>\n",
              "    <tr>\n",
              "      <th>1</th>\n",
              "      <td>Western NY</td>\n",
              "      <td>Allegany</td>\n",
              "      <td>37.0</td>\n",
              "      <td>70 or Older</td>\n",
              "      <td>F</td>\n",
              "      <td>White</td>\n",
              "      <td>Not Span/Hispanic</td>\n",
              "      <td>4</td>\n",
              "      <td>Urgent</td>\n",
              "      <td>Short-term Hospital</td>\n",
              "      <td>...</td>\n",
              "      <td>2.0</td>\n",
              "      <td>Medical</td>\n",
              "      <td>0</td>\n",
              "      <td>N</td>\n",
              "      <td>Y</td>\n",
              "      <td>4783.20</td>\n",
              "      <td>5162.82</td>\n",
              "      <td>1.079365</td>\n",
              "      <td>1</td>\n",
              "      <td>1</td>\n",
              "    </tr>\n",
              "    <tr>\n",
              "      <th>2</th>\n",
              "      <td>Western NY</td>\n",
              "      <td>Allegany</td>\n",
              "      <td>37.0</td>\n",
              "      <td>30 to 49</td>\n",
              "      <td>F</td>\n",
              "      <td>White</td>\n",
              "      <td>Not Span/Hispanic</td>\n",
              "      <td>3</td>\n",
              "      <td>Urgent</td>\n",
              "      <td>Home or Self Care</td>\n",
              "      <td>...</td>\n",
              "      <td>1.0</td>\n",
              "      <td>Medical</td>\n",
              "      <td>0</td>\n",
              "      <td>N</td>\n",
              "      <td>Y</td>\n",
              "      <td>3829.15</td>\n",
              "      <td>4056.52</td>\n",
              "      <td>1.059379</td>\n",
              "      <td>1</td>\n",
              "      <td>1</td>\n",
              "    </tr>\n",
              "  </tbody>\n",
              "</table>\n",
              "<p>3 rows × 24 columns</p>\n",
              "</div>"
            ],
            "text/plain": [
              "  Area_Service Hospital County  Hospital Id          Age Gender  \\\n",
              "0   Western NY        Allegany         37.0     30 to 49      F   \n",
              "1   Western NY        Allegany         37.0  70 or Older      F   \n",
              "2   Western NY        Allegany         37.0     30 to 49      F   \n",
              "\n",
              "  Cultural_group          ethnicity Days_spend_hsptl Admission_type  \\\n",
              "0          White  Not Span/Hispanic                4       Elective   \n",
              "1          White  Not Span/Hispanic                4         Urgent   \n",
              "2          White  Not Span/Hispanic                3         Urgent   \n",
              "\n",
              "    Home or self care,  ...  Mortality risk  Surg_Description Weight_baby  \\\n",
              "0    Home or Self Care  ...             1.0           Medical           0   \n",
              "1  Short-term Hospital  ...             2.0           Medical           0   \n",
              "2    Home or Self Care  ...             1.0           Medical           0   \n",
              "\n",
              "   Abortion  Emergency dept_yes/No Tot_charg  Tot_cost  \\\n",
              "0         N                      Y   5511.95   5582.49   \n",
              "1         N                      Y   4783.20   5162.82   \n",
              "2         N                      Y   3829.15   4056.52   \n",
              "\n",
              "  ratio_of_total_costs_to_total_charges Result  Payment_Typology  \n",
              "0                              1.012798      1                 1  \n",
              "1                              1.079365      1                 1  \n",
              "2                              1.059379      1                 1  \n",
              "\n",
              "[3 rows x 24 columns]"
            ]
          },
          "execution_count": 14,
          "metadata": {},
          "output_type": "execute_result"
        }
      ],
      "source": [
        "dataset.head(3)"
      ]
    },
    {
      "cell_type": "code",
      "execution_count": null,
      "metadata": {
        "colab": {
          "base_uri": "https://localhost:8080/"
        },
        "id": "6vhr3E6VTiKx",
        "outputId": "8a45de44-596b-494f-e8b9-187f2720da53"
      },
      "outputs": [
        {
          "data": {
            "text/plain": [
              "Index(['Area_Service', 'Hospital County', 'Hospital Id', 'Age', 'Gender',\n",
              "       'Cultural_group', 'ethnicity', 'Days_spend_hsptl', 'Admission_type',\n",
              "       'Home or self care,', 'ccs_diagnosis_code', 'ccs_procedure_code',\n",
              "       'apr_drg_description', 'Code_illness', 'Mortality risk',\n",
              "       'Surg_Description', 'Weight_baby', 'Abortion', 'Emergency dept_yes/No',\n",
              "       'Tot_charg', 'Tot_cost', 'ratio_of_total_costs_to_total_charges',\n",
              "       'Result', 'Payment_Typology'],\n",
              "      dtype='object')"
            ]
          },
          "execution_count": 15,
          "metadata": {},
          "output_type": "execute_result"
        }
      ],
      "source": [
        "dataset.columns"
      ]
    },
    {
      "cell_type": "markdown",
      "metadata": {
        "id": "Ca_I7wnKVsXg"
      },
      "source": [
        "**removing spaces in dataset column names**"
      ]
    },
    {
      "cell_type": "code",
      "execution_count": null,
      "metadata": {
        "colab": {
          "base_uri": "https://localhost:8080/"
        },
        "id": "9BGFSPqIVDt-",
        "outputId": "7798f9eb-a385-40cb-a863-14fe84b3ffdb"
      },
      "outputs": [
        {
          "data": {
            "text/plain": [
              "array(['Area_Service', 'Hospital_County', 'Hospital_Id', 'Age', 'Gender',\n",
              "       'Cultural_group', 'ethnicity', 'Days_spend_hsptl',\n",
              "       'Admission_type', 'Home_or_self_care,', 'ccs_diagnosis_code',\n",
              "       'ccs_procedure_code', 'apr_drg_description', 'Code_illness',\n",
              "       'Mortality_risk', 'Surg_Description', 'Weight_baby', 'Abortion',\n",
              "       'Emergency_dept_yes_No', 'Tot_charg', 'Tot_cost',\n",
              "       'ratio_of_total_costs_to_total_charges', 'Result',\n",
              "       'Payment_Typology'], dtype=object)"
            ]
          },
          "execution_count": 16,
          "metadata": {},
          "output_type": "execute_result"
        }
      ],
      "source": [
        "dataset.columns = dataset.columns.to_series().apply(lambda x: x.replace(' ', '_')).to_list()\n",
        "dataset.columns = dataset.columns.to_series().apply(lambda x: x.replace('/', '_')).to_list()\n",
        "dataset.columns.values"
      ]
    },
    {
      "cell_type": "code",
      "execution_count": null,
      "metadata": {
        "id": "JroSALXwVyaq"
      },
      "outputs": [],
      "source": [
        "dataset.rename(columns={'Home_or_self_care,': 'Home_or_self_care'}, inplace=True)"
      ]
    },
    {
      "cell_type": "code",
      "execution_count": null,
      "metadata": {
        "id": "Nep_QAraV5sU"
      },
      "outputs": [],
      "source": [
        "data= pd.read_csv('Insurance Dataset.csv')\n",
        "data_sample_view = data.head(2)"
      ]
    },
    {
      "cell_type": "markdown",
      "metadata": {
        "id": "R2Vp0s7iWMKX"
      },
      "source": [
        "**For deployment part, sample dataframe view**"
      ]
    },
    {
      "cell_type": "code",
      "execution_count": null,
      "metadata": {
        "colab": {
          "base_uri": "https://localhost:8080/"
        },
        "id": "FKadoNP0WALr",
        "outputId": "d4230e7e-885c-4d73-84d0-47e4e3dc63ef"
      },
      "outputs": [
        {
          "data": {
            "text/plain": [
              "['data_sample_view.joblib']"
            ]
          },
          "execution_count": 19,
          "metadata": {},
          "output_type": "execute_result"
        }
      ],
      "source": [
        "dump(data_sample_view, 'data_sample_view.joblib')"
      ]
    },
    {
      "cell_type": "code",
      "execution_count": null,
      "metadata": {
        "colab": {
          "base_uri": "https://localhost:8080/"
        },
        "id": "dBjVpjoiWGUZ",
        "outputId": "1efc75b9-037c-47c9-f356-f14067246e1e"
      },
      "outputs": [
        {
          "data": {
            "text/plain": [
              "(1048575, 24)"
            ]
          },
          "execution_count": 20,
          "metadata": {},
          "output_type": "execute_result"
        }
      ],
      "source": [
        "dataset.shape"
      ]
    },
    {
      "cell_type": "code",
      "execution_count": null,
      "metadata": {
        "colab": {
          "base_uri": "https://localhost:8080/"
        },
        "id": "qX1b9J5iWVPx",
        "outputId": "853399b4-de32-4ab6-e969-ebfd6ccdca3e"
      },
      "outputs": [
        {
          "data": {
            "text/plain": [
              "(1041265, 24)"
            ]
          },
          "execution_count": 21,
          "metadata": {},
          "output_type": "execute_result"
        }
      ],
      "source": [
        "dataset.drop_duplicates(inplace=True)\n",
        "dataset.dropna(inplace=True)\n",
        "dataset.shape"
      ]
    },
    {
      "cell_type": "code",
      "execution_count": null,
      "metadata": {
        "colab": {
          "base_uri": "https://localhost:8080/",
          "height": 210
        },
        "id": "Z0IcVX7bWhax",
        "outputId": "ff504a29-713f-437b-af8d-4bf1cc30e616"
      },
      "outputs": [
        {
          "data": {
            "text/html": [
              "<div>\n",
              "<style scoped>\n",
              "    .dataframe tbody tr th:only-of-type {\n",
              "        vertical-align: middle;\n",
              "    }\n",
              "\n",
              "    .dataframe tbody tr th {\n",
              "        vertical-align: top;\n",
              "    }\n",
              "\n",
              "    .dataframe thead th {\n",
              "        text-align: right;\n",
              "    }\n",
              "</style>\n",
              "<table border=\"1\" class=\"dataframe\">\n",
              "  <thead>\n",
              "    <tr style=\"text-align: right;\">\n",
              "      <th></th>\n",
              "      <th>Area_Service</th>\n",
              "      <th>Hospital_County</th>\n",
              "      <th>Age</th>\n",
              "      <th>Gender</th>\n",
              "      <th>Cultural_group</th>\n",
              "      <th>ethnicity</th>\n",
              "      <th>Days_spend_hsptl</th>\n",
              "      <th>Admission_type</th>\n",
              "      <th>Home_or_self_care</th>\n",
              "      <th>apr_drg_description</th>\n",
              "      <th>Surg_Description</th>\n",
              "      <th>Abortion</th>\n",
              "      <th>Emergency_dept_yes_No</th>\n",
              "    </tr>\n",
              "  </thead>\n",
              "  <tbody>\n",
              "    <tr>\n",
              "      <th>0</th>\n",
              "      <td>Western NY</td>\n",
              "      <td>Allegany</td>\n",
              "      <td>30 to 49</td>\n",
              "      <td>F</td>\n",
              "      <td>White</td>\n",
              "      <td>Not Span/Hispanic</td>\n",
              "      <td>4</td>\n",
              "      <td>Elective</td>\n",
              "      <td>Home or Self Care</td>\n",
              "      <td>Other pneumonia</td>\n",
              "      <td>Medical</td>\n",
              "      <td>N</td>\n",
              "      <td>Y</td>\n",
              "    </tr>\n",
              "    <tr>\n",
              "      <th>1</th>\n",
              "      <td>Western NY</td>\n",
              "      <td>Allegany</td>\n",
              "      <td>70 or Older</td>\n",
              "      <td>F</td>\n",
              "      <td>White</td>\n",
              "      <td>Not Span/Hispanic</td>\n",
              "      <td>4</td>\n",
              "      <td>Urgent</td>\n",
              "      <td>Short-term Hospital</td>\n",
              "      <td>Cellulitis &amp; other skin infections</td>\n",
              "      <td>Medical</td>\n",
              "      <td>N</td>\n",
              "      <td>Y</td>\n",
              "    </tr>\n",
              "  </tbody>\n",
              "</table>\n",
              "</div>"
            ],
            "text/plain": [
              "  Area_Service Hospital_County          Age Gender Cultural_group  \\\n",
              "0   Western NY        Allegany     30 to 49      F          White   \n",
              "1   Western NY        Allegany  70 or Older      F          White   \n",
              "\n",
              "           ethnicity Days_spend_hsptl Admission_type    Home_or_self_care  \\\n",
              "0  Not Span/Hispanic                4       Elective    Home or Self Care   \n",
              "1  Not Span/Hispanic                4         Urgent  Short-term Hospital   \n",
              "\n",
              "                  apr_drg_description Surg_Description Abortion  \\\n",
              "0                     Other pneumonia          Medical        N   \n",
              "1  Cellulitis & other skin infections          Medical        N   \n",
              "\n",
              "  Emergency_dept_yes_No  \n",
              "0                     Y  \n",
              "1                     Y  "
            ]
          },
          "execution_count": 22,
          "metadata": {},
          "output_type": "execute_result"
        }
      ],
      "source": [
        "dataset.select_dtypes(include=['object']).head(2)"
      ]
    },
    {
      "cell_type": "markdown",
      "metadata": {
        "id": "xHPa4dNRW8lp"
      },
      "source": [
        "**Trying to convert string formatted data to integer / find out which value is not getting converted to integer datatype**"
      ]
    },
    {
      "cell_type": "code",
      "execution_count": null,
      "metadata": {
        "colab": {
          "base_uri": "https://localhost:8080/"
        },
        "id": "3ipdDL53Wo09",
        "outputId": "3c57dbc0-2971-4746-b3a5-735a4458c978"
      },
      "outputs": [
        {
          "name": "stdout",
          "output_type": "stream",
          "text": [
            "120 +\n"
          ]
        }
      ],
      "source": [
        "for i in dataset.Days_spend_hsptl.unique():\n",
        "    try:\n",
        "        int(i)\n",
        "    except ValueError:\n",
        "        print(i)"
      ]
    },
    {
      "cell_type": "code",
      "execution_count": null,
      "metadata": {
        "id": "rb90OnGuCjqK"
      },
      "outputs": [],
      "source": [
        "dataset.replace({'Days_spend_hsptl': '120 +'}, 120, inplace=True)"
      ]
    },
    {
      "cell_type": "code",
      "execution_count": null,
      "metadata": {
        "id": "53wPbGAtCosw"
      },
      "outputs": [],
      "source": [
        "dataset.Days_spend_hsptl = dataset.Days_spend_hsptl.astype('int')"
      ]
    },
    {
      "cell_type": "code",
      "execution_count": null,
      "metadata": {
        "colab": {
          "base_uri": "https://localhost:8080/",
          "height": 176
        },
        "id": "ERQorHNXCubO",
        "outputId": "179b38f7-0108-4f64-d37b-65f184cecfcc"
      },
      "outputs": [
        {
          "data": {
            "text/html": [
              "<div>\n",
              "<style scoped>\n",
              "    .dataframe tbody tr th:only-of-type {\n",
              "        vertical-align: middle;\n",
              "    }\n",
              "\n",
              "    .dataframe tbody tr th {\n",
              "        vertical-align: top;\n",
              "    }\n",
              "\n",
              "    .dataframe thead th {\n",
              "        text-align: right;\n",
              "    }\n",
              "</style>\n",
              "<table border=\"1\" class=\"dataframe\">\n",
              "  <thead>\n",
              "    <tr style=\"text-align: right;\">\n",
              "      <th></th>\n",
              "      <th>Hospital_Id</th>\n",
              "      <th>Days_spend_hsptl</th>\n",
              "      <th>ccs_diagnosis_code</th>\n",
              "      <th>ccs_procedure_code</th>\n",
              "      <th>Code_illness</th>\n",
              "      <th>Mortality_risk</th>\n",
              "      <th>Weight_baby</th>\n",
              "      <th>Tot_charg</th>\n",
              "      <th>Tot_cost</th>\n",
              "      <th>ratio_of_total_costs_to_total_charges</th>\n",
              "      <th>Result</th>\n",
              "      <th>Payment_Typology</th>\n",
              "    </tr>\n",
              "  </thead>\n",
              "  <tbody>\n",
              "    <tr>\n",
              "      <th>0</th>\n",
              "      <td>37.0</td>\n",
              "      <td>4</td>\n",
              "      <td>122</td>\n",
              "      <td>0</td>\n",
              "      <td>1</td>\n",
              "      <td>1.0</td>\n",
              "      <td>0</td>\n",
              "      <td>5511.95</td>\n",
              "      <td>5582.49</td>\n",
              "      <td>1.012798</td>\n",
              "      <td>1</td>\n",
              "      <td>1</td>\n",
              "    </tr>\n",
              "    <tr>\n",
              "      <th>1</th>\n",
              "      <td>37.0</td>\n",
              "      <td>4</td>\n",
              "      <td>197</td>\n",
              "      <td>0</td>\n",
              "      <td>3</td>\n",
              "      <td>2.0</td>\n",
              "      <td>0</td>\n",
              "      <td>4783.20</td>\n",
              "      <td>5162.82</td>\n",
              "      <td>1.079365</td>\n",
              "      <td>1</td>\n",
              "      <td>1</td>\n",
              "    </tr>\n",
              "  </tbody>\n",
              "</table>\n",
              "</div>"
            ],
            "text/plain": [
              "   Hospital_Id  Days_spend_hsptl  ccs_diagnosis_code  ccs_procedure_code  \\\n",
              "0         37.0                 4                 122                   0   \n",
              "1         37.0                 4                 197                   0   \n",
              "\n",
              "   Code_illness  Mortality_risk  Weight_baby  Tot_charg  Tot_cost  \\\n",
              "0             1             1.0            0    5511.95   5582.49   \n",
              "1             3             2.0            0    4783.20   5162.82   \n",
              "\n",
              "   ratio_of_total_costs_to_total_charges  Result  Payment_Typology  \n",
              "0                               1.012798       1                 1  \n",
              "1                               1.079365       1                 1  "
            ]
          },
          "execution_count": 26,
          "metadata": {},
          "output_type": "execute_result"
        }
      ],
      "source": [
        "dataset.select_dtypes(exclude='object').head(2)"
      ]
    },
    {
      "cell_type": "code",
      "execution_count": null,
      "metadata": {
        "id": "ALCgTlTSXW3A"
      },
      "outputs": [],
      "source": [
        "dataset.Days_spend_hsptl = dataset.Days_spend_hsptl.astype('int')\n",
        "dataset.Hospital_Id = dataset.Hospital_Id.astype('int')\n",
        "dataset.Mortality_risk = dataset.Mortality_risk.astype('int')"
      ]
    },
    {
      "cell_type": "markdown",
      "metadata": {
        "id": "nfPxk_IMX0QP"
      },
      "source": [
        "**Dropping non important Columns**"
      ]
    },
    {
      "cell_type": "code",
      "execution_count": null,
      "metadata": {
        "id": "VZMaYFRNXeE6"
      },
      "outputs": [],
      "source": [
        "dataset.drop(['Hospital_Id', 'apr_drg_description', 'Abortion', 'Weight_baby'], axis=1, inplace=True)"
      ]
    },
    {
      "cell_type": "markdown",
      "metadata": {
        "id": "95pe2dlBYYJi"
      },
      "source": [
        "**Encoding**"
      ]
    },
    {
      "cell_type": "code",
      "execution_count": null,
      "metadata": {
        "id": "fzDROk3sYatw"
      },
      "outputs": [],
      "source": [
        "from sklearn.preprocessing import LabelBinarizer, LabelEncoder\n",
        "label = LabelEncoder()\n",
        "label_binizer =LabelBinarizer()"
      ]
    },
    {
      "cell_type": "code",
      "execution_count": null,
      "metadata": {
        "id": "47dY3FQVYgFV"
      },
      "outputs": [],
      "source": [
        "label_area = label.fit(dataset.Area_Service)\n",
        "label_Hospital_County = label.fit(dataset.Hospital_County)\n",
        "label_Age = label.fit(dataset.Age)\n",
        "label_Cultural_group = label.fit(dataset.Cultural_group)\n",
        "label_ethnicity= label.fit(dataset.ethnicity)\n",
        "label_Admission_type = label.fit(dataset.Admission_type)\n",
        "label_Home_or_self_care = label.fit(dataset.Home_or_self_care)\n",
        "one_hot_Gender = label_binizer.fit(dataset.Gender)\n",
        "one_hot_Surg_Description = label_binizer.fit(dataset.Surg_Description)\n",
        "one_hot_Emergency_dept_yes_No = label_binizer.fit(dataset.Emergency_dept_yes_No)"
      ]
    },
    {
      "cell_type": "code",
      "execution_count": null,
      "metadata": {
        "id": "j5WHDic_Yvxx"
      },
      "outputs": [],
      "source": [
        "label_encoder_list = [label_area, label_Hospital_County,\n",
        "                label_Age, label_Cultural_group,\n",
        "                label_ethnicity, label_Admission_type,\n",
        "                label_Home_or_self_care]\n",
        "\n",
        "one_hot_coder_list = [one_hot_Gender, one_hot_Surg_Description, one_hot_Emergency_dept_yes_No]"
      ]
    },
    {
      "cell_type": "markdown",
      "metadata": {
        "id": "Z61OghnAY8R5"
      },
      "source": [
        "**Pickling encoding object & columns for deployment point of view**"
      ]
    },
    {
      "cell_type": "code",
      "execution_count": null,
      "metadata": {
        "id": "7AvKqg9CYzb9"
      },
      "outputs": [],
      "source": [
        "from joblib import dump, load"
      ]
    },
    {
      "cell_type": "code",
      "execution_count": null,
      "metadata": {
        "colab": {
          "base_uri": "https://localhost:8080/"
        },
        "id": "szKONRc9ZBzP",
        "outputId": "5873f757-8311-4932-ec97-21687586dc2c"
      },
      "outputs": [
        {
          "data": {
            "text/plain": [
              "['one_hot_coder_list.joblib']"
            ]
          },
          "execution_count": 33,
          "metadata": {},
          "output_type": "execute_result"
        }
      ],
      "source": [
        "dump(label_encoder_list, 'label_encoder_list.joblib')\n",
        "dump(one_hot_coder_list, 'one_hot_coder_list.joblib')"
      ]
    },
    {
      "cell_type": "code",
      "execution_count": null,
      "metadata": {
        "id": "H4Qai3BkZJwE"
      },
      "outputs": [],
      "source": [
        "label_to_column = ['Area_Service', 'Hospital_County',\n",
        "                  'Age', 'Cultural_group', 'ethnicity',\n",
        "                  'Admission_type', 'Home_or_self_care']"
      ]
    },
    {
      "cell_type": "code",
      "execution_count": null,
      "metadata": {
        "id": "x9A2xD2KZM0E"
      },
      "outputs": [],
      "source": [
        "one_hot_column = ['Gender', 'Surg_Description', 'Emergency_dept_yes_No']"
      ]
    },
    {
      "cell_type": "code",
      "execution_count": null,
      "metadata": {
        "colab": {
          "base_uri": "https://localhost:8080/"
        },
        "id": "AtI1FwazZPqW",
        "outputId": "879b6cb0-fa94-455d-cd97-5df3292aae9e"
      },
      "outputs": [
        {
          "data": {
            "text/plain": [
              "['label_to_column.joblib']"
            ]
          },
          "execution_count": 36,
          "metadata": {},
          "output_type": "execute_result"
        }
      ],
      "source": [
        "dump(label_to_column, 'label_to_column.joblib')"
      ]
    },
    {
      "cell_type": "code",
      "execution_count": null,
      "metadata": {
        "colab": {
          "base_uri": "https://localhost:8080/"
        },
        "id": "zpCY5NHIZSEc",
        "outputId": "52861f54-503b-4e85-da6e-d0fb168daea8"
      },
      "outputs": [
        {
          "data": {
            "text/plain": [
              "['one_hot_column.joblib']"
            ]
          },
          "execution_count": 37,
          "metadata": {},
          "output_type": "execute_result"
        }
      ],
      "source": [
        "dump(one_hot_column, 'one_hot_column.joblib')"
      ]
    },
    {
      "cell_type": "markdown",
      "metadata": {
        "id": "UxvEe5kGO0LE"
      },
      "source": [
        "**Applyibng label encoding on columns..also this below cells can be used in deployment as well**"
      ]
    },
    {
      "cell_type": "code",
      "execution_count": null,
      "metadata": {
        "id": "ELNgcILEZVCQ"
      },
      "outputs": [],
      "source": [
        "j = 0\n",
        "for i in label_to_column:\n",
        "    dataset[i] = label_encoder_list[j].fit_transform(dataset[i])\n",
        "    j =+1"
      ]
    },
    {
      "cell_type": "markdown",
      "metadata": {
        "id": "KisO6MoWO_SV"
      },
      "source": [
        "**applyibng one hot encoding on columns..also this below cells can be used in deployment as well**"
      ]
    },
    {
      "cell_type": "code",
      "execution_count": null,
      "metadata": {
        "id": "GXEc5fCtO6KD"
      },
      "outputs": [],
      "source": [
        "k = 0\n",
        "for i in one_hot_column:\n",
        "    dataset[i] = one_hot_coder_list[k].fit_transform(dataset[i])\n",
        "    k =+1"
      ]
    },
    {
      "cell_type": "markdown",
      "metadata": {
        "id": "TVHBTM0pLjTO"
      },
      "source": [
        "Imbalanced Dataset"
      ]
    },
    {
      "cell_type": "code",
      "execution_count": null,
      "metadata": {
        "colab": {
          "base_uri": "https://localhost:8080/",
          "height": 430
        },
        "id": "-_uuvsGtDIkV",
        "outputId": "f8de6e4a-843f-4426-b50a-0c1833310c4f"
      },
      "outputs": [
        {
          "data": {
            "image/png": "[encoded data removed]",
            "text/plain": [
              "<Figure size 640x480 with 1 Axes>"
            ]
          },
          "metadata": {},
          "output_type": "display_data"
        }
      ],
      "source": [
        "sns.countplot(dataset.Result)\n",
        "plt.show()"
      ]
    },
    {
      "cell_type": "markdown",
      "metadata": {
        "id": "iwT1YZm7P_5h"
      },
      "source": [
        "**Performing on sample datasets**"
      ]
    },
    {
      "cell_type": "code",
      "execution_count": null,
      "metadata": {
        "id": "V5bhcEJ0PtWs"
      },
      "outputs": [],
      "source": [
        "sample_data = dataset.sample(frac=0.07)"
      ]
    },
    {
      "cell_type": "code",
      "execution_count": null,
      "metadata": {
        "colab": {
          "base_uri": "https://localhost:8080/"
        },
        "id": "qne4mH5BP_Fy",
        "outputId": "e212c8ef-6883-481a-f69e-2ee2cb91e586"
      },
      "outputs": [
        {
          "data": {
            "text/plain": [
              "1    54437\n",
              "0    18452\n",
              "Name: Result, dtype: int64"
            ]
          },
          "execution_count": 45,
          "metadata": {},
          "output_type": "execute_result"
        }
      ],
      "source": [
        "sample_data.Result.value_counts()"
      ]
    },
    {
      "cell_type": "code",
      "execution_count": null,
      "metadata": {
        "id": "Oj2JVbYtLjTP",
        "outputId": "45ecee03-0afd-492e-c8d9-bf6e2d827db0"
      },
      "outputs": [
        {
          "data": {
            "image/png": "[encoded data removed]",
            "text/plain": [
              "<Figure size 640x480 with 1 Axes>"
            ]
          },
          "metadata": {},
          "output_type": "display_data"
        }
      ],
      "source": [
        "sns.countplot(sample_data.Result)\n",
        "plt.show()"
      ]
    },
    {
      "cell_type": "markdown",
      "metadata": {
        "id": "_r5tXYc_QqG7"
      },
      "source": [
        "**Upsampling before splitting the data into train & test**"
      ]
    },
    {
      "cell_type": "code",
      "execution_count": null,
      "metadata": {
        "id": "_XAU6y5QQJNT"
      },
      "outputs": [],
      "source": [
        "sample_minority = sample_data.loc[sample_data['Result']==0]\n",
        "sample_majority = sample_data.loc[sample_data['Result']==1]\n"
      ]
    },
    {
      "cell_type": "code",
      "execution_count": null,
      "metadata": {
        "id": "CvPv9iSTQVsq"
      },
      "outputs": [],
      "source": [
        "from sklearn.utils import resample\n",
        "sample_data_minority_upsampled = resample(sample_minority , replace=True, n_samples=12000, random_state=42)"
      ]
    },
    {
      "cell_type": "code",
      "execution_count": null,
      "metadata": {
        "id": "f5nrmlUcQ7ng"
      },
      "outputs": [],
      "source": [
        "sample_data_upsampled = pd.concat([sample_majority, sample_data_minority_upsampled ], ignore_index=True)"
      ]
    },
    {
      "cell_type": "code",
      "execution_count": null,
      "metadata": {
        "id": "ZRPaG4TEQ9Qu"
      },
      "outputs": [],
      "source": [
        "x = sample_data_upsampled.drop(['Result'],axis=1).values\n",
        "y = sample_data_upsampled.Result.values"
      ]
    },
    {
      "cell_type": "code",
      "execution_count": null,
      "metadata": {
        "id": "YZdFakbaRARm"
      },
      "outputs": [],
      "source": [
        "x_train, x_test, y_train, y_test = train_test_split(x, y, test_size=0.3, stratify = y, random_state=42)"
      ]
    },
    {
      "cell_type": "code",
      "execution_count": null,
      "metadata": {
        "id": "qS9WswSgRD3A"
      },
      "outputs": [],
      "source": [
        "def find_alpha(x_train, x_test, y_train, y_test):\n",
        "    \n",
        "    import matplotlib.pyplot as plt\n",
        "    from sklearn.ensemble import RandomForestClassifier\n",
        "    \n",
        "    \n",
        "    ccp_alphas = np.arange(0.000, 0.040, 0.002)\n",
        "    clfs = []\n",
        "    for ccp_alpha in ccp_alphas:\n",
        "        clf = RandomForestClassifier(n_estimators=15, random_state=42, ccp_alpha=ccp_alpha)\n",
        "        clf.fit(x_train, y_train)\n",
        "        clfs.append(clf)\n",
        "\n",
        "    train_scores = [clf.score(x_train, y_train) for clf in clfs]\n",
        "    test_scores = [clf.score(x_test, y_test) for clf in clfs]\n",
        "\n",
        "    fig, ax = plt.subplots(figsize=(15,6))\n",
        "    ax.set_xlabel(\"alpha\")\n",
        "    ax.set_ylabel(\"accuracy\")\n",
        "    ax.set_title(\"Accuracy vs alpha for training and testing sets\")\n",
        "    ax.plot(ccp_alphas, train_scores, marker='o', label=\"train\",drawstyle=\"steps-post\")\n",
        "    ax.plot(ccp_alphas, test_scores, marker='o', label=\"test\",drawstyle=\"steps-post\")\n",
        "    ax.set_xticks(np.arange(0.000,0.040, 0.002))\n",
        "    ax.set_yticks(np.arange(0.70,1.01, 0.1))\n",
        "    ax.legend()\n",
        "    plt.grid(True)\n",
        "    plt.rcParams['xtick.labelsize']=12\n",
        "    plt.rcParams['ytick.labelsize']=12\n",
        "    plt.show()"
      ]
    },
    {
      "cell_type": "code",
      "execution_count": null,
      "metadata": {
        "colab": {
          "base_uri": "https://localhost:8080/",
          "height": 399
        },
        "id": "T5uNS9WMRQec",
        "outputId": "f47cef4e-5f1b-415e-8949-80afed2b2e22"
      },
      "outputs": [
        {
          "data": {
            "image/png": "[encoded data removed]",
            "text/plain": [
              "<Figure size 1500x600 with 1 Axes>"
            ]
          },
          "metadata": {},
          "output_type": "display_data"
        }
      ],
      "source": [
        "find_alpha(x_train, x_test, y_train, y_test)"
      ]
    },
    {
      "cell_type": "markdown",
      "metadata": {
        "id": "9LRlKL-2Rggm"
      },
      "source": [
        "**Building Model with n_estimators=100**"
      ]
    },
    {
      "cell_type": "code",
      "execution_count": null,
      "metadata": {
        "id": "ykMHtc7qRg-B"
      },
      "outputs": [],
      "source": [
        "from sklearn.ensemble import RandomForestClassifier\n",
        "sample_RF_upsampled = RandomForestClassifier(n_estimators=100, random_state=42)"
      ]
    },
    {
      "cell_type": "code",
      "execution_count": null,
      "metadata": {
        "id": "ADnrJ0CRRj9a"
      },
      "outputs": [],
      "source": [
        "clf_sample = sample_RF_upsampled.fit(x_train, y_train)"
      ]
    },
    {
      "cell_type": "code",
      "execution_count": null,
      "metadata": {
        "id": "m9T8KPZ4RlO5"
      },
      "outputs": [],
      "source": [
        "y_pred_train = clf_sample.predict(x_train)\n",
        "y_pred = clf_sample.predict(x_test)"
      ]
    },
    {
      "cell_type": "code",
      "execution_count": null,
      "metadata": {
        "colab": {
          "base_uri": "https://localhost:8080/"
        },
        "id": "p3TV242iRnus",
        "outputId": "0bcff9e6-cf6f-4e80-87ba-328a61071d48"
      },
      "outputs": [
        {
          "name": "stdout",
          "output_type": "stream",
          "text": [
            "              precision    recall  f1-score   support\n",
            "\n",
            "           0       1.00      1.00      1.00      8400\n",
            "           1       1.00      1.00      1.00     38105\n",
            "\n",
            "    accuracy                           1.00     46505\n",
            "   macro avg       1.00      1.00      1.00     46505\n",
            "weighted avg       1.00      1.00      1.00     46505\n",
            "\n"
          ]
        }
      ],
      "source": [
        "print(classification_report(y_train, y_pred_train ))"
      ]
    },
    {
      "cell_type": "code",
      "execution_count": null,
      "metadata": {
        "colab": {
          "base_uri": "https://localhost:8080/"
        },
        "id": "H6n2QSgdRs9G",
        "outputId": "47b0ec91-46cc-4d74-aec8-ecc2367137b3"
      },
      "outputs": [
        {
          "name": "stdout",
          "output_type": "stream",
          "text": [
            "              precision    recall  f1-score   support\n",
            "\n",
            "           0       0.92      0.37      0.53      3600\n",
            "           1       0.88      0.99      0.93     16332\n",
            "\n",
            "    accuracy                           0.88     19932\n",
            "   macro avg       0.90      0.68      0.73     19932\n",
            "weighted avg       0.88      0.88      0.86     19932\n",
            "\n"
          ]
        }
      ],
      "source": [
        "print(classification_report(y_test, y_pred ))"
      ]
    },
    {
      "cell_type": "markdown",
      "metadata": {
        "id": "RFc1CF9tSb68"
      },
      "source": [
        "**Building Model with n_estimators=15**"
      ]
    },
    {
      "cell_type": "code",
      "execution_count": null,
      "metadata": {
        "id": "vnoqMltcSO1O"
      },
      "outputs": [],
      "source": [
        "from sklearn.ensemble import RandomForestClassifier\n",
        "sample_RF15_upsampled = RandomForestClassifier(n_estimators=15, random_state=42)"
      ]
    },
    {
      "cell_type": "code",
      "execution_count": null,
      "metadata": {
        "colab": {
          "base_uri": "https://localhost:8080/"
        },
        "id": "0Ay4zwjxR59B",
        "outputId": "058a714b-d8a5-4a56-d292-9e2030976dfa"
      },
      "outputs": [
        {
          "data": {
            "text/plain": [
              "array([0.88576159, 0.88673992, 0.88454881, 0.88786031, 0.88462407])"
            ]
          },
          "execution_count": 63,
          "metadata": {},
          "output_type": "execute_result"
        }
      ],
      "source": [
        "cross_val_score(clf_sample, x, y)"
      ]
    },
    {
      "cell_type": "code",
      "execution_count": null,
      "metadata": {
        "id": "S2Uj0uFjR6pj"
      },
      "outputs": [],
      "source": [
        "clf_15_sample = sample_RF_upsampled.fit(x_train, y_train)"
      ]
    },
    {
      "cell_type": "code",
      "execution_count": null,
      "metadata": {
        "id": "cUWxF6xVSK-D"
      },
      "outputs": [],
      "source": [
        "y_pred_train = clf_15_sample.predict(x_train)\n",
        "y_pred = clf_15_sample.predict(x_test)"
      ]
    },
    {
      "cell_type": "code",
      "execution_count": null,
      "metadata": {
        "colab": {
          "base_uri": "https://localhost:8080/"
        },
        "id": "00V0YT8cSocv",
        "outputId": "711ccb96-6b88-4ee7-a482-2e1bebad4bcd"
      },
      "outputs": [
        {
          "name": "stdout",
          "output_type": "stream",
          "text": [
            "              precision    recall  f1-score   support\n",
            "\n",
            "           0       1.00      1.00      1.00      8400\n",
            "           1       1.00      1.00      1.00     38105\n",
            "\n",
            "    accuracy                           1.00     46505\n",
            "   macro avg       1.00      1.00      1.00     46505\n",
            "weighted avg       1.00      1.00      1.00     46505\n",
            "\n"
          ]
        }
      ],
      "source": [
        "print(classification_report(y_train, y_pred_train ))"
      ]
    },
    {
      "cell_type": "code",
      "execution_count": null,
      "metadata": {
        "colab": {
          "base_uri": "https://localhost:8080/"
        },
        "id": "ctvLENVKSrKA",
        "outputId": "2ba3f60e-35d8-4b07-ebad-f3f8fb62a1cb"
      },
      "outputs": [
        {
          "name": "stdout",
          "output_type": "stream",
          "text": [
            "              precision    recall  f1-score   support\n",
            "\n",
            "           0       0.92      0.37      0.53      3600\n",
            "           1       0.88      0.99      0.93     16332\n",
            "\n",
            "    accuracy                           0.88     19932\n",
            "   macro avg       0.90      0.68      0.73     19932\n",
            "weighted avg       0.88      0.88      0.86     19932\n",
            "\n"
          ]
        }
      ],
      "source": [
        "print(classification_report(y_test, y_pred))"
      ]
    }
  ],
  "metadata": {
    "colab": {
      "provenance": [],
      "include_colab_link": true
    },
    "kernelspec": {
      "display_name": "Python 3",
      "name": "python3"
    },
    "language_info": {
      "codemirror_mode": {
        "name": "ipython",
        "version": 3
      },
      "file_extension": ".py",
      "mimetype": "text/x-python",
      "name": "python",
      "nbconvert_exporter": "python",
      "pygments_lexer": "ipython3",
      "version": "3.9.13"
    }
  },
  "nbformat": 4,
  "nbformat_minor": 0
}